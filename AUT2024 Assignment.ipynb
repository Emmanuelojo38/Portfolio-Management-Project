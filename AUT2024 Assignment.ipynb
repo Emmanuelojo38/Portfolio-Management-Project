{
 "cells": [
  {
   "cell_type": "markdown",
   "id": "586f287a-bb66-44c9-bd56-229f0224468c",
   "metadata": {},
   "source": [
    "# Library importation"
   ]
  },
  {
   "cell_type": "code",
   "execution_count": 1,
   "id": "5d418b40-fbcf-40f7-adea-8d1b05691c60",
   "metadata": {},
   "outputs": [],
   "source": [
    "import pandas as pd\n",
    "import numpy as np\n",
    "import apmodule as ap\n",
    "import matplotlib.pyplot as plt\n",
    "from scipy.stats import spearmanr\n",
    "from sklearn.tree import DecisionTreeClassifier\n",
    "from sklearn.model_selection import cross_val_score\n",
    "from sklearn.model_selection import train_test_split\n",
    "from sklearn.preprocessing import StandardScaler\n",
    "plt.style.use('fivethirtyeight')\n",
    "plt.rcParams['font.size'] = 10\n",
    "plt.rcParams['lines.linewidth'] = 3\n",
    "%matplotlib inline"
   ]
  },
  {
   "cell_type": "markdown",
   "id": "8f0d08af-6093-4e4a-9d83-c9d7111e535c",
   "metadata": {},
   "source": [
    "# User-generated functions"
   ]
  },
  {
   "cell_type": "code",
   "execution_count": 2,
   "id": "a39d10db-25a4-4d81-8f85-efb5794a71ca",
   "metadata": {},
   "outputs": [],
   "source": [
    "# Function to calculate Information Coefficient\n",
    "def information_coefficient(data, factor, returns):\n",
    "    ic = factor.corr(returns)\n",
    "    return ic"
   ]
  },
  {
   "cell_type": "code",
   "execution_count": 3,
   "id": "473a10b6-fbbf-4180-b885-d0bffa982494",
   "metadata": {},
   "outputs": [],
   "source": [
    "# Function to backtest the 130/30 strategy\n",
    "def backtest_130_30(df, factor, transaction_cost=0.002, start_date='2007-01-01', end_date='2023-12-31'):\n",
    "    df = df[(df['date'] >= start_date) & (df['date'] <= end_date)]\n",
    "    returns = []\n",
    "    dates = sorted(df['date'].unique())\n",
    "\n",
    "    for date in dates:\n",
    "        monthly_data = df[df['date'] == date]\n",
    "        top_300 = monthly_data.nlargest(300, factor)\n",
    "        bottom_300 = monthly_data.nsmallest(300, factor)\n",
    "\n",
    "        long_weight = 1.3 / 300\n",
    "        short_weight = -0.3 / 300\n",
    "\n",
    "        monthly_return = long_weight * top_300['returns'].mean() + short_weight * bottom_300['returns'].mean()\n",
    "        net_return = monthly_return - transaction_cost\n",
    "        returns.append(net_return)\n",
    "\n",
    "    return pd.Series(returns, index=dates)"
   ]
  },
  {
   "cell_type": "code",
   "execution_count": 4,
   "id": "e2ecfaf1-fad3-46a0-baa2-e3cbaa03a9a1",
   "metadata": {},
   "outputs": [],
   "source": [
    "# Function to optimize the strategy\n",
    "def optimize_strategy(df, factor, transaction_cost=0.002, start_date='2007-01-01', end_date='2023-12-31'):\n",
    "    results = []\n",
    "\n",
    "    for num_stocks in [100, 300, 500]:\n",
    "        for rebalance_freq in [1, 3, 6]:  # Monthly, Quarterly, Semi-Annually\n",
    "            returns = []\n",
    "            dates = sorted(df['date'].unique())\n",
    "            \n",
    "            for i in range(0, len(dates), rebalance_freq):\n",
    "                date = dates[i]\n",
    "                monthly_data = df[df['date'] == date]\n",
    "                top_stocks = monthly_data.nlargest(num_stocks, factor)\n",
    "                bottom_stocks = monthly_data.nsmallest(num_stocks, factor)\n",
    "\n",
    "                long_weight = 1.3 / num_stocks\n",
    "                short_weight = -0.3 / num_stocks\n",
    "\n",
    "                monthly_return = long_weight * top_stocks['returns'].mean() + short_weight * bottom_stocks['returns'].mean()\n",
    "                net_return = monthly_return - transaction_cost\n",
    "                returns.append(net_return)\n",
    "            \n",
    "            cumulative_return = np.sum(returns)\n",
    "            results.append((num_stocks, rebalance_freq, cumulative_return))\n",
    "\n",
    "    results_df = pd.DataFrame(results, columns=['Num_Stocks', 'Rebalance_Freq', 'Cumulative_Return'])\n",
    "    return results_df"
   ]
  },
  {
   "cell_type": "markdown",
   "id": "912e4918-7f1c-4c97-9d07-02c7342ff417",
   "metadata": {},
   "source": [
    "# Load Files"
   ]
  },
  {
   "cell_type": "code",
   "execution_count": 5,
   "id": "6d6b81fe-f39a-469b-9f8b-04d85cb1b035",
   "metadata": {},
   "outputs": [
    {
     "data": {
      "text/html": [
       "<div>\n",
       "<style scoped>\n",
       "    .dataframe tbody tr th:only-of-type {\n",
       "        vertical-align: middle;\n",
       "    }\n",
       "\n",
       "    .dataframe tbody tr th {\n",
       "        vertical-align: top;\n",
       "    }\n",
       "\n",
       "    .dataframe thead th {\n",
       "        text-align: right;\n",
       "    }\n",
       "</style>\n",
       "<table border=\"1\" class=\"dataframe\">\n",
       "  <thead>\n",
       "    <tr style=\"text-align: right;\">\n",
       "      <th></th>\n",
       "      <th>date</th>\n",
       "      <th>price</th>\n",
       "    </tr>\n",
       "    <tr>\n",
       "      <th>id</th>\n",
       "      <th></th>\n",
       "      <th></th>\n",
       "    </tr>\n",
       "  </thead>\n",
       "  <tbody>\n",
       "    <tr>\n",
       "      <th>10000</th>\n",
       "      <td>1986-01-31</td>\n",
       "      <td>4.374997</td>\n",
       "    </tr>\n",
       "    <tr>\n",
       "      <th>10000</th>\n",
       "      <td>1986-02-28</td>\n",
       "      <td>3.249997</td>\n",
       "    </tr>\n",
       "    <tr>\n",
       "      <th>10000</th>\n",
       "      <td>1986-03-31</td>\n",
       "      <td>4.437498</td>\n",
       "    </tr>\n",
       "    <tr>\n",
       "      <th>10000</th>\n",
       "      <td>1986-04-30</td>\n",
       "      <td>3.999996</td>\n",
       "    </tr>\n",
       "    <tr>\n",
       "      <th>10000</th>\n",
       "      <td>1986-05-30</td>\n",
       "      <td>3.109373</td>\n",
       "    </tr>\n",
       "  </tbody>\n",
       "</table>\n",
       "</div>"
      ],
      "text/plain": [
       "            date     price\n",
       "id                        \n",
       "10000 1986-01-31  4.374997\n",
       "10000 1986-02-28  3.249997\n",
       "10000 1986-03-31  4.437498\n",
       "10000 1986-04-30  3.999996\n",
       "10000 1986-05-30  3.109373"
      ]
     },
     "execution_count": 5,
     "metadata": {},
     "output_type": "execute_result"
    }
   ],
   "source": [
    "prices = pd.read_csv('Prices.csv', parse_dates=['date']).set_index(['id']).squeeze()\n",
    "prices.head()"
   ]
  },
  {
   "cell_type": "code",
   "execution_count": 6,
   "id": "be21d93b-56da-45f1-8401-e0821b6bd794",
   "metadata": {},
   "outputs": [
    {
     "data": {
      "text/plain": [
       "(2676412, 2)"
      ]
     },
     "execution_count": 6,
     "metadata": {},
     "output_type": "execute_result"
    }
   ],
   "source": [
    "prices.shape"
   ]
  },
  {
   "cell_type": "code",
   "execution_count": 7,
   "id": "5657f0fa-61f0-4a7a-9c02-bfe80fea9bbb",
   "metadata": {},
   "outputs": [
    {
     "data": {
      "text/html": [
       "<div>\n",
       "<style scoped>\n",
       "    .dataframe tbody tr th:only-of-type {\n",
       "        vertical-align: middle;\n",
       "    }\n",
       "\n",
       "    .dataframe tbody tr th {\n",
       "        vertical-align: top;\n",
       "    }\n",
       "\n",
       "    .dataframe thead th {\n",
       "        text-align: right;\n",
       "    }\n",
       "</style>\n",
       "<table border=\"1\" class=\"dataframe\">\n",
       "  <thead>\n",
       "    <tr style=\"text-align: right;\">\n",
       "      <th></th>\n",
       "      <th>date</th>\n",
       "      <th>intcov</th>\n",
       "    </tr>\n",
       "    <tr>\n",
       "      <th>id</th>\n",
       "      <th></th>\n",
       "      <th></th>\n",
       "    </tr>\n",
       "  </thead>\n",
       "  <tbody>\n",
       "    <tr>\n",
       "      <th>10001</th>\n",
       "      <td>1986-11-28</td>\n",
       "      <td>-0.036508</td>\n",
       "    </tr>\n",
       "    <tr>\n",
       "      <th>10001</th>\n",
       "      <td>1986-12-31</td>\n",
       "      <td>-0.035019</td>\n",
       "    </tr>\n",
       "    <tr>\n",
       "      <th>10001</th>\n",
       "      <td>1987-01-30</td>\n",
       "      <td>-0.036436</td>\n",
       "    </tr>\n",
       "    <tr>\n",
       "      <th>10001</th>\n",
       "      <td>1987-02-27</td>\n",
       "      <td>-0.055301</td>\n",
       "    </tr>\n",
       "    <tr>\n",
       "      <th>10001</th>\n",
       "      <td>1987-03-31</td>\n",
       "      <td>-0.058922</td>\n",
       "    </tr>\n",
       "  </tbody>\n",
       "</table>\n",
       "</div>"
      ],
      "text/plain": [
       "            date    intcov\n",
       "id                        \n",
       "10001 1986-11-28 -0.036508\n",
       "10001 1986-12-31 -0.035019\n",
       "10001 1987-01-30 -0.036436\n",
       "10001 1987-02-27 -0.055301\n",
       "10001 1987-03-31 -0.058922"
      ]
     },
     "execution_count": 7,
     "metadata": {},
     "output_type": "execute_result"
    }
   ],
   "source": [
    "intcov = pd.read_csv('INTCOV.csv', parse_dates=['date']).set_index(['id']).squeeze()\n",
    "intcov.head()"
   ]
  },
  {
   "cell_type": "code",
   "execution_count": 8,
   "id": "ce1f3f76-e571-45db-9bca-401d196be52f",
   "metadata": {},
   "outputs": [
    {
     "data": {
      "text/plain": [
       "(1845124, 2)"
      ]
     },
     "execution_count": 8,
     "metadata": {},
     "output_type": "execute_result"
    }
   ],
   "source": [
    "intcov.shape"
   ]
  },
  {
   "cell_type": "code",
   "execution_count": 9,
   "id": "2b7104b8-daa5-416e-a42e-862fa7e6a1ae",
   "metadata": {},
   "outputs": [
    {
     "data": {
      "text/html": [
       "<div>\n",
       "<style scoped>\n",
       "    .dataframe tbody tr th:only-of-type {\n",
       "        vertical-align: middle;\n",
       "    }\n",
       "\n",
       "    .dataframe tbody tr th {\n",
       "        vertical-align: top;\n",
       "    }\n",
       "\n",
       "    .dataframe thead th {\n",
       "        text-align: right;\n",
       "    }\n",
       "</style>\n",
       "<table border=\"1\" class=\"dataframe\">\n",
       "  <thead>\n",
       "    <tr style=\"text-align: right;\">\n",
       "      <th></th>\n",
       "      <th>date</th>\n",
       "      <th>cash_debt</th>\n",
       "    </tr>\n",
       "    <tr>\n",
       "      <th>id</th>\n",
       "      <th></th>\n",
       "      <th></th>\n",
       "    </tr>\n",
       "  </thead>\n",
       "  <tbody>\n",
       "    <tr>\n",
       "      <th>10001</th>\n",
       "      <td>1987-08-31</td>\n",
       "      <td>0.093349</td>\n",
       "    </tr>\n",
       "    <tr>\n",
       "      <th>10001</th>\n",
       "      <td>1987-09-30</td>\n",
       "      <td>0.096959</td>\n",
       "    </tr>\n",
       "    <tr>\n",
       "      <th>10001</th>\n",
       "      <td>1987-10-30</td>\n",
       "      <td>0.098956</td>\n",
       "    </tr>\n",
       "    <tr>\n",
       "      <th>10001</th>\n",
       "      <td>1987-11-30</td>\n",
       "      <td>0.098332</td>\n",
       "    </tr>\n",
       "    <tr>\n",
       "      <th>10001</th>\n",
       "      <td>1987-12-31</td>\n",
       "      <td>0.100232</td>\n",
       "    </tr>\n",
       "  </tbody>\n",
       "</table>\n",
       "</div>"
      ],
      "text/plain": [
       "            date  cash_debt\n",
       "id                         \n",
       "10001 1987-08-31   0.093349\n",
       "10001 1987-09-30   0.096959\n",
       "10001 1987-10-30   0.098956\n",
       "10001 1987-11-30   0.098332\n",
       "10001 1987-12-31   0.100232"
      ]
     },
     "execution_count": 9,
     "metadata": {},
     "output_type": "execute_result"
    }
   ],
   "source": [
    "cash_debt = pd.read_csv('CASH_DEBT.csv', parse_dates=['date']).set_index(['id']).squeeze()\n",
    "cash_debt.head()"
   ]
  },
  {
   "cell_type": "code",
   "execution_count": 10,
   "id": "76f1c38f-5fdf-4abb-b5a3-3126dfda7efe",
   "metadata": {},
   "outputs": [
    {
     "data": {
      "text/plain": [
       "(2286487, 2)"
      ]
     },
     "execution_count": 10,
     "metadata": {},
     "output_type": "execute_result"
    }
   ],
   "source": [
    "cash_debt.shape"
   ]
  },
  {
   "cell_type": "code",
   "execution_count": 11,
   "id": "126de71b-ceb9-4b8e-9649-bc7ca2221219",
   "metadata": {},
   "outputs": [
    {
     "data": {
      "text/html": [
       "<div>\n",
       "<style scoped>\n",
       "    .dataframe tbody tr th:only-of-type {\n",
       "        vertical-align: middle;\n",
       "    }\n",
       "\n",
       "    .dataframe tbody tr th {\n",
       "        vertical-align: top;\n",
       "    }\n",
       "\n",
       "    .dataframe thead th {\n",
       "        text-align: right;\n",
       "    }\n",
       "</style>\n",
       "<table border=\"1\" class=\"dataframe\">\n",
       "  <thead>\n",
       "    <tr style=\"text-align: right;\">\n",
       "      <th></th>\n",
       "      <th>date</th>\n",
       "      <th>ocf_lct</th>\n",
       "    </tr>\n",
       "    <tr>\n",
       "      <th>id</th>\n",
       "      <th></th>\n",
       "      <th></th>\n",
       "    </tr>\n",
       "  </thead>\n",
       "  <tbody>\n",
       "    <tr>\n",
       "      <th>10001</th>\n",
       "      <td>1986-11-28</td>\n",
       "      <td>0.064810</td>\n",
       "    </tr>\n",
       "    <tr>\n",
       "      <th>10001</th>\n",
       "      <td>1986-12-31</td>\n",
       "      <td>0.063030</td>\n",
       "    </tr>\n",
       "    <tr>\n",
       "      <th>10001</th>\n",
       "      <td>1987-01-30</td>\n",
       "      <td>0.061564</td>\n",
       "    </tr>\n",
       "    <tr>\n",
       "      <th>10001</th>\n",
       "      <td>1987-02-27</td>\n",
       "      <td>-0.141271</td>\n",
       "    </tr>\n",
       "    <tr>\n",
       "      <th>10001</th>\n",
       "      <td>1987-03-31</td>\n",
       "      <td>-0.142123</td>\n",
       "    </tr>\n",
       "  </tbody>\n",
       "</table>\n",
       "</div>"
      ],
      "text/plain": [
       "            date   ocf_lct\n",
       "id                        \n",
       "10001 1986-11-28  0.064810\n",
       "10001 1986-12-31  0.063030\n",
       "10001 1987-01-30  0.061564\n",
       "10001 1987-02-27 -0.141271\n",
       "10001 1987-03-31 -0.142123"
      ]
     },
     "execution_count": 11,
     "metadata": {},
     "output_type": "execute_result"
    }
   ],
   "source": [
    "ocf_lct = pd.read_csv('OCF_LCT.csv', parse_dates=['date']).set_index(['id']).squeeze()\n",
    "ocf_lct.head()"
   ]
  },
  {
   "cell_type": "code",
   "execution_count": 12,
   "id": "92c5efff-c837-4ce8-87e1-c8d32e297c7a",
   "metadata": {},
   "outputs": [
    {
     "data": {
      "text/plain": [
       "(1967379, 2)"
      ]
     },
     "execution_count": 12,
     "metadata": {},
     "output_type": "execute_result"
    }
   ],
   "source": [
    "ocf_lct.shape"
   ]
  },
  {
   "cell_type": "code",
   "execution_count": 13,
   "id": "139e8713-5afb-478e-bf34-ee3ce715ce12",
   "metadata": {},
   "outputs": [],
   "source": [
    "# Data Preprocessing\n",
    "data = pd.merge(prices, intcov, on=['id', 'date'])\n",
    "data = pd.merge(data, ocf_lct, on=['id', 'date'])\n",
    "data = pd.merge(data, cash_debt, on=['id', 'date'])"
   ]
  },
  {
   "cell_type": "code",
   "execution_count": 14,
   "id": "79ce7219-c1fb-4223-94c9-b65d62107411",
   "metadata": {},
   "outputs": [
    {
     "data": {
      "text/html": [
       "<div>\n",
       "<style scoped>\n",
       "    .dataframe tbody tr th:only-of-type {\n",
       "        vertical-align: middle;\n",
       "    }\n",
       "\n",
       "    .dataframe tbody tr th {\n",
       "        vertical-align: top;\n",
       "    }\n",
       "\n",
       "    .dataframe thead th {\n",
       "        text-align: right;\n",
       "    }\n",
       "</style>\n",
       "<table border=\"1\" class=\"dataframe\">\n",
       "  <thead>\n",
       "    <tr style=\"text-align: right;\">\n",
       "      <th></th>\n",
       "      <th>date</th>\n",
       "      <th>price</th>\n",
       "      <th>intcov</th>\n",
       "      <th>ocf_lct</th>\n",
       "      <th>cash_debt</th>\n",
       "    </tr>\n",
       "    <tr>\n",
       "      <th>id</th>\n",
       "      <th></th>\n",
       "      <th></th>\n",
       "      <th></th>\n",
       "      <th></th>\n",
       "      <th></th>\n",
       "    </tr>\n",
       "  </thead>\n",
       "  <tbody>\n",
       "    <tr>\n",
       "      <th>10001</th>\n",
       "      <td>1987-08-31</td>\n",
       "      <td>0.540697</td>\n",
       "      <td>-0.048930</td>\n",
       "      <td>0.097231</td>\n",
       "      <td>0.093349</td>\n",
       "    </tr>\n",
       "    <tr>\n",
       "      <th>10001</th>\n",
       "      <td>1987-09-30</td>\n",
       "      <td>0.528635</td>\n",
       "      <td>-0.047790</td>\n",
       "      <td>0.098882</td>\n",
       "      <td>0.096959</td>\n",
       "    </tr>\n",
       "    <tr>\n",
       "      <th>10001</th>\n",
       "      <td>1987-10-30</td>\n",
       "      <td>0.539207</td>\n",
       "      <td>-0.051882</td>\n",
       "      <td>0.099862</td>\n",
       "      <td>0.098956</td>\n",
       "    </tr>\n",
       "    <tr>\n",
       "      <th>10001</th>\n",
       "      <td>1987-11-30</td>\n",
       "      <td>0.523348</td>\n",
       "      <td>-0.057535</td>\n",
       "      <td>0.021457</td>\n",
       "      <td>0.098332</td>\n",
       "    </tr>\n",
       "    <tr>\n",
       "      <th>10001</th>\n",
       "      <td>1987-12-31</td>\n",
       "      <td>0.505798</td>\n",
       "      <td>-0.053371</td>\n",
       "      <td>0.021327</td>\n",
       "      <td>0.100232</td>\n",
       "    </tr>\n",
       "  </tbody>\n",
       "</table>\n",
       "</div>"
      ],
      "text/plain": [
       "            date     price    intcov   ocf_lct  cash_debt\n",
       "id                                                       \n",
       "10001 1987-08-31  0.540697 -0.048930  0.097231   0.093349\n",
       "10001 1987-09-30  0.528635 -0.047790  0.098882   0.096959\n",
       "10001 1987-10-30  0.539207 -0.051882  0.099862   0.098956\n",
       "10001 1987-11-30  0.523348 -0.057535  0.021457   0.098332\n",
       "10001 1987-12-31  0.505798 -0.053371  0.021327   0.100232"
      ]
     },
     "execution_count": 14,
     "metadata": {},
     "output_type": "execute_result"
    }
   ],
   "source": [
    "data.head()"
   ]
  },
  {
   "cell_type": "code",
   "execution_count": 15,
   "id": "ed2066e0-0313-4074-ae63-0babdc33236f",
   "metadata": {},
   "outputs": [],
   "source": [
    "#  syntenic “Average” factor built as the average of the three  financial ratios\n",
    "data['average_factor'] = data[['intcov', 'ocf_lct', 'cash_debt']].mean(axis=1)"
   ]
  },
  {
   "cell_type": "code",
   "execution_count": 16,
   "id": "f92d075d-3a16-4ba4-9156-74c0d958281b",
   "metadata": {},
   "outputs": [
    {
     "data": {
      "text/html": [
       "<div>\n",
       "<style scoped>\n",
       "    .dataframe tbody tr th:only-of-type {\n",
       "        vertical-align: middle;\n",
       "    }\n",
       "\n",
       "    .dataframe tbody tr th {\n",
       "        vertical-align: top;\n",
       "    }\n",
       "\n",
       "    .dataframe thead th {\n",
       "        text-align: right;\n",
       "    }\n",
       "</style>\n",
       "<table border=\"1\" class=\"dataframe\">\n",
       "  <thead>\n",
       "    <tr style=\"text-align: right;\">\n",
       "      <th></th>\n",
       "      <th>date</th>\n",
       "      <th>price</th>\n",
       "      <th>intcov</th>\n",
       "      <th>ocf_lct</th>\n",
       "      <th>cash_debt</th>\n",
       "      <th>average_factor</th>\n",
       "    </tr>\n",
       "    <tr>\n",
       "      <th>id</th>\n",
       "      <th></th>\n",
       "      <th></th>\n",
       "      <th></th>\n",
       "      <th></th>\n",
       "      <th></th>\n",
       "      <th></th>\n",
       "    </tr>\n",
       "  </thead>\n",
       "  <tbody>\n",
       "    <tr>\n",
       "      <th>10001</th>\n",
       "      <td>1987-08-31</td>\n",
       "      <td>0.540697</td>\n",
       "      <td>-0.048930</td>\n",
       "      <td>0.097231</td>\n",
       "      <td>0.093349</td>\n",
       "      <td>0.047217</td>\n",
       "    </tr>\n",
       "    <tr>\n",
       "      <th>10001</th>\n",
       "      <td>1987-09-30</td>\n",
       "      <td>0.528635</td>\n",
       "      <td>-0.047790</td>\n",
       "      <td>0.098882</td>\n",
       "      <td>0.096959</td>\n",
       "      <td>0.049351</td>\n",
       "    </tr>\n",
       "    <tr>\n",
       "      <th>10001</th>\n",
       "      <td>1987-10-30</td>\n",
       "      <td>0.539207</td>\n",
       "      <td>-0.051882</td>\n",
       "      <td>0.099862</td>\n",
       "      <td>0.098956</td>\n",
       "      <td>0.048978</td>\n",
       "    </tr>\n",
       "    <tr>\n",
       "      <th>10001</th>\n",
       "      <td>1987-11-30</td>\n",
       "      <td>0.523348</td>\n",
       "      <td>-0.057535</td>\n",
       "      <td>0.021457</td>\n",
       "      <td>0.098332</td>\n",
       "      <td>0.020751</td>\n",
       "    </tr>\n",
       "    <tr>\n",
       "      <th>10001</th>\n",
       "      <td>1987-12-31</td>\n",
       "      <td>0.505798</td>\n",
       "      <td>-0.053371</td>\n",
       "      <td>0.021327</td>\n",
       "      <td>0.100232</td>\n",
       "      <td>0.022729</td>\n",
       "    </tr>\n",
       "  </tbody>\n",
       "</table>\n",
       "</div>"
      ],
      "text/plain": [
       "            date     price    intcov   ocf_lct  cash_debt  average_factor\n",
       "id                                                                       \n",
       "10001 1987-08-31  0.540697 -0.048930  0.097231   0.093349        0.047217\n",
       "10001 1987-09-30  0.528635 -0.047790  0.098882   0.096959        0.049351\n",
       "10001 1987-10-30  0.539207 -0.051882  0.099862   0.098956        0.048978\n",
       "10001 1987-11-30  0.523348 -0.057535  0.021457   0.098332        0.020751\n",
       "10001 1987-12-31  0.505798 -0.053371  0.021327   0.100232        0.022729"
      ]
     },
     "execution_count": 16,
     "metadata": {},
     "output_type": "execute_result"
    }
   ],
   "source": [
    "data.head()"
   ]
  },
  {
   "cell_type": "code",
   "execution_count": 17,
   "id": "59d841c4-63cf-4748-b803-173a3727b9f4",
   "metadata": {},
   "outputs": [],
   "source": [
    "# Calculate returns (percentage change in price)\n",
    "data['returns'] = data.groupby('id')['price'].pct_change()"
   ]
  },
  {
   "cell_type": "code",
   "execution_count": 18,
   "id": "d9a5ce73-0a85-4da7-9ab6-bf990b71481b",
   "metadata": {},
   "outputs": [
    {
     "name": "stdout",
     "output_type": "stream",
     "text": [
      "            date       price    intcov   ocf_lct  cash_debt  average_factor  \\\n",
      "id                                                                            \n",
      "10001 1987-08-31    0.540697 -0.048930  0.097231   0.093349        0.047217   \n",
      "10001 1987-09-30    0.528635 -0.047790  0.098882   0.096959        0.049351   \n",
      "10001 1987-10-30    0.539207 -0.051882  0.099862   0.098956        0.048978   \n",
      "10001 1987-11-30    0.523348 -0.057535  0.021457   0.098332        0.020751   \n",
      "10001 1987-12-31    0.505798 -0.053371  0.021327   0.100232        0.022729   \n",
      "...          ...         ...       ...       ...        ...             ...   \n",
      "93436 2023-08-31  258.080151  0.069318  0.473137   0.514704        0.352386   \n",
      "93436 2023-09-29  250.220062  0.069036  0.450311   0.464847        0.328065   \n",
      "93436 2023-10-31  200.840134  0.067597  0.417202   0.464340        0.316380   \n",
      "93436 2023-11-30  240.080078  0.065708  0.413005   0.462148        0.313620   \n",
      "93436 2023-12-29  248.480000  0.062451  0.411560   0.461815        0.311942   \n",
      "\n",
      "        returns  \n",
      "id               \n",
      "10001       NaN  \n",
      "10001 -0.022308  \n",
      "10001  0.020000  \n",
      "10001 -0.029412  \n",
      "10001 -0.033535  \n",
      "...         ...  \n",
      "93436 -0.034962  \n",
      "93436 -0.030456  \n",
      "93436 -0.197346  \n",
      "93436  0.195379  \n",
      "93436  0.034988  \n",
      "\n",
      "[1692731 rows x 7 columns]\n"
     ]
    }
   ],
   "source": [
    "df= pd.DataFrame(data)\n",
    "print(df)"
   ]
  },
  {
   "cell_type": "markdown",
   "id": "6376e53b-9ba1-4582-86ee-37ff56b0516c",
   "metadata": {},
   "source": [
    "# 1. Statistical Analysis"
   ]
  },
  {
   "cell_type": "code",
   "execution_count": 19,
   "id": "66a04c17-2c5e-4a59-81f9-5e7d9ef76bce",
   "metadata": {},
   "outputs": [
    {
     "name": "stdout",
     "output_type": "stream",
     "text": [
      "IC for Interest Coverage Ratio: 0.003581751746348746\n"
     ]
    }
   ],
   "source": [
    "# Calculate Information Coefficient for Interest Coverage Ratio\n",
    "factor = df['intcov']\n",
    "returns = df['returns']\n",
    "ic_intcov = information_coefficient(df, factor, returns)\n",
    "print(f\"IC for Interest Coverage Ratio: {ic_intcov}\")"
   ]
  },
  {
   "cell_type": "code",
   "execution_count": 20,
   "id": "d67e4718-d757-400f-a36d-e52eadf50ec7",
   "metadata": {},
   "outputs": [
    {
     "name": "stdout",
     "output_type": "stream",
     "text": [
      "IC for Cash Flow to Current Liabilities Ratio: 0.014808973549208217\n"
     ]
    }
   ],
   "source": [
    "# Calculate Information Coefficient for Cash Flow to Current Liabilities Ratio\n",
    "factor = df['ocf_lct']\n",
    "returns = df['returns']\n",
    "ic_ocflct = information_coefficient(df, factor, returns)\n",
    "print(f\"IC for Cash Flow to Current Liabilities Ratio: {ic_ocflct}\")"
   ]
  },
  {
   "cell_type": "code",
   "execution_count": 21,
   "id": "6e5178b4-f4c6-434e-b253-dfd8438f7b66",
   "metadata": {},
   "outputs": [
    {
     "name": "stdout",
     "output_type": "stream",
     "text": [
      "IC for Cash Flow to Debt Ratio: 0.012506126926589064\n"
     ]
    }
   ],
   "source": [
    "# Calculate Information Coefficient for Cash Flow to Debt Ratio\n",
    "factor = df['cash_debt']\n",
    "returns = df['returns']\n",
    "ic_cashdebt = information_coefficient(df, factor, returns)\n",
    "print(f\"IC for Cash Flow to Debt Ratio: {ic_cashdebt}\")"
   ]
  },
  {
   "cell_type": "code",
   "execution_count": 22,
   "id": "f06f411d-b1f7-4064-a375-e7e0995af5d8",
   "metadata": {},
   "outputs": [
    {
     "name": "stdout",
     "output_type": "stream",
     "text": [
      "IC for Average Factor: 0.014522585886653849\n"
     ]
    }
   ],
   "source": [
    "# Calculate Information Coefficient for Average factor\n",
    "factor = df['average_factor']\n",
    "returns = df['returns']\n",
    "ic_avg = information_coefficient(df, factor, returns)\n",
    "print(f\"IC for Average Factor: {ic_avg}\")"
   ]
  },
  {
   "cell_type": "code",
   "execution_count": 23,
   "id": "e1d8456e-95f0-4b38-a8d0-46e6679dde68",
   "metadata": {},
   "outputs": [
    {
     "name": "stdout",
     "output_type": "stream",
     "text": [
      "\n",
      "Period: 1980-1989\n",
      "IC_intcov: 0.013039990990215779\n",
      "IC_ocf_lct: 0.013933432999145292\n",
      "IC_cash_debt: 0.025637716471722673\n",
      "IC_average_factor: 0.02283742508174354\n",
      "\n",
      "Period: 1990-1999\n",
      "IC_intcov: 0.00434701240956957\n",
      "IC_ocf_lct: 0.01121758825523836\n",
      "IC_cash_debt: 0.006779255558957974\n",
      "IC_average_factor: 0.009709920157061678\n",
      "\n",
      "Period: 2000-2009\n",
      "IC_intcov: 0.005154722856950064\n",
      "IC_ocf_lct: 0.02219981381189242\n",
      "IC_cash_debt: 0.015519531086355983\n",
      "IC_average_factor: 0.020182775791541877\n",
      "\n",
      "Period: 2010-2019\n",
      "IC_intcov: 0.0011809063711400003\n",
      "IC_ocf_lct: 0.011095188838960105\n",
      "IC_cash_debt: 0.011506594901751975\n",
      "IC_average_factor: 0.011744692272878877\n",
      "\n",
      "Period: 2020-2023\n",
      "IC_intcov: 0.012131596221958783\n",
      "IC_ocf_lct: 0.012513746302608781\n",
      "IC_cash_debt: 0.012548243002356836\n",
      "IC_average_factor: 0.013720522212828386\n"
     ]
    }
   ],
   "source": [
    "# Define time periods (e.g., decades)\n",
    "time_periods = [(1980, 1989), (1990, 1999), (2000, 2009), (2010, 2019), (2020, 2023)]\n",
    "\n",
    "ic_over_time = {}\n",
    "\n",
    "for start, end in time_periods:\n",
    "    period_data = df[(df['date'] >= f'{start}-01-01') & (df['date'] <= f'{end}-12-31')]\n",
    "    \n",
    "    ic_over_time[f'{start}-{end}'] = {\n",
    "        'IC_intcov': information_coefficient(df, period_data['intcov'], period_data['returns']),\n",
    "        'IC_ocf_lct': information_coefficient(df, period_data['ocf_lct'], period_data['returns']),\n",
    "        'IC_cash_debt': information_coefficient(df, period_data['cash_debt'], period_data['returns']),\n",
    "        'IC_average_factor': information_coefficient(df, period_data['average_factor'], period_data['returns'])\n",
    "    }\n",
    "\n",
    "# Print IC over time\n",
    "for period, ics in ic_over_time.items():\n",
    "    print(f\"\\nPeriod: {period}\")\n",
    "    for ratio, ic in ics.items():\n",
    "        print(f\"{ratio}: {ic}\")"
   ]
  },
  {
   "cell_type": "code",
   "execution_count": 24,
   "id": "67d19aed-eeeb-423d-b310-eff0ea2c73a1",
   "metadata": {},
   "outputs": [],
   "source": [
    "# Extract data for plotting\n",
    "\n",
    "periods = list(ic_over_time.keys())\n",
    "ic_intcov = [ic_over_time[period]['IC_intcov'] for period in periods]\n",
    "ic_ocf_lct = [ic_over_time[period]['IC_ocf_lct'] for period in periods]\n",
    "ic_cash_debt = [ic_over_time[period]['IC_cash_debt'] for period in periods]\n",
    "ic_average_factor = [ic_over_time[period]['IC_average_factor'] for period in periods]"
   ]
  },
  {
   "cell_type": "code",
   "execution_count": 25,
   "id": "f5cab165-4aab-4f7f-a701-9a5716dd8160",
   "metadata": {},
   "outputs": [
    {
     "data": {
      "image/png": "[encoded data removed]",
      "text/plain": [
       "<Figure size 1200x800 with 1 Axes>"
      ]
     },
     "metadata": {},
     "output_type": "display_data"
    }
   ],
   "source": [
    "plt.figure(figsize=(12, 8))\n",
    "\n",
    "# Plotting Interest Coverage Ratio\n",
    "plt.plot(periods, ic_intcov, marker='o', label='Interest Coverage Ratio', color='blue')\n",
    "\n",
    "# Plotting Cash Flow to Current Liabilities Ratio\n",
    "plt.plot(periods, ic_ocf_lct, marker='o', label='Cash Flow to Current Liabilities Ratio', color='green')\n",
    "\n",
    "# Plotting Cash Flow to Debt Ratio\n",
    "plt.plot(periods, ic_cash_debt, marker='o', label='Cash Flow to Debt Ratio', color='red')\n",
    "\n",
    "# Plotting Synthetic Average Factor\n",
    "plt.plot(periods, ic_average_factor, marker='o', label='Synthetic Average Factor', color='purple')\n",
    "\n",
    "# Adding labels and title\n",
    "plt.xlabel('Time Periods')\n",
    "plt.ylabel('Information Coefficient (IC)')\n",
    "plt.title('Temporal Changes in Predictive Power of Financial Ratios')\n",
    "plt.legend()\n",
    "plt.grid(True)\n",
    "plt.show()"
   ]
  },
  {
   "cell_type": "markdown",
   "id": "fd1674ec-bf63-4604-a5ae-c2349411c156",
   "metadata": {},
   "source": [
    "# 2. Backtesting"
   ]
  },
  {
   "cell_type": "code",
   "execution_count": 26,
   "id": "a90edc3f-1281-4eec-877f-3c6dcb64d050",
   "metadata": {},
   "outputs": [
    {
     "name": "stdout",
     "output_type": "stream",
     "text": [
      "date                  0\n",
      "price                 0\n",
      "intcov                0\n",
      "ocf_lct               0\n",
      "cash_debt             0\n",
      "average_factor        0\n",
      "returns           15891\n",
      "dtype: int64\n"
     ]
    }
   ],
   "source": [
    "print(df.isnull().sum())"
   ]
  },
  {
   "cell_type": "code",
   "execution_count": 27,
   "id": "2e558e10-0cb9-4fc2-8e10-bd856f9ea119",
   "metadata": {},
   "outputs": [],
   "source": [
    "df['returns'].fillna(0, inplace=True)"
   ]
  },
  {
   "cell_type": "code",
   "execution_count": 28,
   "id": "a05b5bf9-2543-4b2d-9415-99f355bd9ec6",
   "metadata": {},
   "outputs": [
    {
     "name": "stdout",
     "output_type": "stream",
     "text": [
      "date              0\n",
      "price             0\n",
      "intcov            0\n",
      "ocf_lct           0\n",
      "cash_debt         0\n",
      "average_factor    0\n",
      "returns           0\n",
      "dtype: int64\n"
     ]
    }
   ],
   "source": [
    "print(df.isnull().sum())"
   ]
  },
  {
   "cell_type": "code",
   "execution_count": 29,
   "id": "0db4610c-74a7-4c9f-83e5-62dac6d367a7",
   "metadata": {},
   "outputs": [
    {
     "data": {
      "image/png": "[encoded data removed]",
      "text/plain": [
       "<Figure size 640x480 with 1 Axes>"
      ]
     },
     "metadata": {},
     "output_type": "display_data"
    }
   ],
   "source": [
    "strategy_returns = backtest_130_30(df, 'average_factor')\n",
    "\n",
    "strategy_returns.cumsum().plot()\n",
    "plt.title('Cumulative Returns of 130/30 Strategy Based on Average Factor')\n",
    "plt.xlabel('Date')\n",
    "plt.ylabel('Cumulative Return')\n",
    "plt.show()"
   ]
  },
  {
   "cell_type": "code",
   "execution_count": 30,
   "id": "748a9096-28a0-4d1c-bd09-a108f705ba35",
   "metadata": {},
   "outputs": [
    {
     "name": "stdout",
     "output_type": "stream",
     "text": [
      "   Num_Stocks  Rebalance_Freq  Cumulative_Return\n",
      "0         100               1          -0.943153\n",
      "1         100               3          -0.315307\n",
      "2         100               6          -0.159618\n",
      "3         300               1          -1.033349\n",
      "4         300               3          -0.343772\n",
      "5         300               6          -0.172238\n",
      "6         500               1          -1.053805\n",
      "7         500               3          -0.351058\n",
      "8         500               6          -0.176142\n"
     ]
    }
   ],
   "source": [
    "optimization_results = optimize_strategy(df, 'average_factor')\n",
    "print(optimization_results)"
   ]
  },
  {
   "cell_type": "markdown",
   "id": "834d78c5-cc1c-443b-9b5b-b118b0d5d3d8",
   "metadata": {},
   "source": [
    "### Interpretation of the Results\r",
    "Effect of Number of Stocks:\r\n",
    "\r\n",
    "For each rebalancing frequency, increasing the number of stocks (from 100 to 500) tends to result in more negative cumulative returns.\r\n",
    "This might indicate that selecting fewer stocks (100) is slightly better than selecting more stocks (500) in terms of minimizing losses, but all selections still result in negative returns.\r\n",
    "Effect of Rebalancing Frequency:\r\n",
    "\r\n",
    "For each number of stocks, more frequent rebalancing (e.g., monthly) results in more negative cumulative returns compared to less frequent rebalancing (e.g., semi-annually).\r\n",
    "This suggests that less frequent rebalancing (6 months) results in less negative returns compared to more frequent rebalancing (1 month).od.\r\n"
   ]
  },
  {
   "cell_type": "code",
   "execution_count": 31,
   "id": "b4020f2a-2a9b-4813-bc3f-4d53a95057fb",
   "metadata": {},
   "outputs": [
    {
     "data": {
      "text/plain": [
       "id     date      \n",
       "10001  1986-11-28   -1.225507\n",
       "       1986-12-31   -1.243168\n",
       "       1987-01-30   -1.238661\n",
       "       1987-02-27   -0.620267\n",
       "       1987-03-31   -0.565438\n",
       "Name: gp, dtype: float64"
      ]
     },
     "execution_count": 31,
     "metadata": {},
     "output_type": "execute_result"
    }
   ],
   "source": [
    "gp = pd.read_csv('GP.csv', parse_dates=['date']).set_index(['id', 'date']).squeeze()\n",
    "gp.head()"
   ]
  },
  {
   "cell_type": "code",
   "execution_count": 32,
   "id": "ec84d6de-9670-4ab4-b2e0-beed64028af0",
   "metadata": {},
   "outputs": [
    {
     "data": {
      "text/plain": [
       "id     date      \n",
       "10000  1987-01-30   -4.137997\n",
       "       1987-02-27   -4.797531\n",
       "       1987-03-31   -4.261258\n",
       "       1987-04-30   -5.959072\n",
       "       1987-05-29   -5.653565\n",
       "Name: mom12, dtype: float64"
      ]
     },
     "execution_count": 32,
     "metadata": {},
     "output_type": "execute_result"
    }
   ],
   "source": [
    "mom12 = pd.read_csv('MOM12.csv', parse_dates=['date']).set_index(['id', 'date']).squeeze()\n",
    "mom12.head()"
   ]
  },
  {
   "cell_type": "code",
   "execution_count": 33,
   "id": "3a84af47-0649-469a-97f2-d2b4aa51a7aa",
   "metadata": {},
   "outputs": [
    {
     "data": {
      "text/plain": [
       "id     date      \n",
       "10001  1996-07-31   -0.057004\n",
       "       1996-08-30   -0.056819\n",
       "       1996-09-30   -0.056647\n",
       "       1996-10-31   -0.056551\n",
       "       1996-11-29   -0.056348\n",
       "Name: tvol, dtype: float64"
      ]
     },
     "execution_count": 33,
     "metadata": {},
     "output_type": "execute_result"
    }
   ],
   "source": [
    "tvol = pd.read_csv('TVOL.csv', parse_dates=['date']).set_index(['id', 'date']).squeeze()\n",
    "tvol.head()"
   ]
  },
  {
   "cell_type": "code",
   "execution_count": 34,
   "id": "e58cc506-b24b-4bb4-880a-690d5744d8b4",
   "metadata": {},
   "outputs": [
    {
     "data": {
      "text/plain": [
       "id     date      \n",
       "10001  1986-11-28   -0.042355\n",
       "       1986-12-31   -0.029326\n",
       "       1987-01-30   -0.060960\n",
       "       1987-02-27    0.209572\n",
       "       1987-03-31    0.171081\n",
       "Name: epq, dtype: float64"
      ]
     },
     "execution_count": 34,
     "metadata": {},
     "output_type": "execute_result"
    }
   ],
   "source": [
    "epq = pd.read_csv('EPQ.csv', parse_dates=['date']).set_index(['id','date']).squeeze()\n",
    "epq.head()"
   ]
  },
  {
   "cell_type": "code",
   "execution_count": 35,
   "id": "04324438-8cf4-4dd1-b9e6-c9c51ca0c752",
   "metadata": {},
   "outputs": [
    {
     "data": {
      "text/plain": [
       "id     date      \n",
       "10000  1986-01-31    16100.00000\n",
       "       1986-02-28    11960.00000\n",
       "       1986-03-31    16330.00000\n",
       "       1986-04-30    15172.00000\n",
       "       1986-05-30    11793.87834\n",
       "Name: market_cap, dtype: float64"
      ]
     },
     "execution_count": 35,
     "metadata": {},
     "output_type": "execute_result"
    }
   ],
   "source": [
    "market_cap = pd.read_csv('market_cap.csv', parse_dates=['date']).set_index(['id', 'date']).squeeze()\n",
    "market_cap.head()"
   ]
  },
  {
   "cell_type": "code",
   "execution_count": 36,
   "id": "a3b75930-5391-4f98-81cc-3cb47dae035b",
   "metadata": {},
   "outputs": [
    {
     "data": {
      "text/html": [
       "<div>\n",
       "<style scoped>\n",
       "    .dataframe tbody tr th:only-of-type {\n",
       "        vertical-align: middle;\n",
       "    }\n",
       "\n",
       "    .dataframe tbody tr th {\n",
       "        vertical-align: top;\n",
       "    }\n",
       "\n",
       "    .dataframe thead th {\n",
       "        text-align: right;\n",
       "    }\n",
       "</style>\n",
       "<table border=\"1\" class=\"dataframe\">\n",
       "  <thead>\n",
       "    <tr style=\"text-align: right;\">\n",
       "      <th></th>\n",
       "      <th>1YTR</th>\n",
       "      <th>10YTR</th>\n",
       "    </tr>\n",
       "    <tr>\n",
       "      <th>date</th>\n",
       "      <th></th>\n",
       "      <th></th>\n",
       "    </tr>\n",
       "  </thead>\n",
       "  <tbody>\n",
       "    <tr>\n",
       "      <th>1979-01-31</th>\n",
       "      <td>10.13</td>\n",
       "      <td>8.95</td>\n",
       "    </tr>\n",
       "    <tr>\n",
       "      <th>1979-02-28</th>\n",
       "      <td>10.33</td>\n",
       "      <td>9.17</td>\n",
       "    </tr>\n",
       "    <tr>\n",
       "      <th>1979-03-30</th>\n",
       "      <td>10.17</td>\n",
       "      <td>9.11</td>\n",
       "    </tr>\n",
       "    <tr>\n",
       "      <th>1979-04-30</th>\n",
       "      <td>10.29</td>\n",
       "      <td>9.35</td>\n",
       "    </tr>\n",
       "    <tr>\n",
       "      <th>1979-05-31</th>\n",
       "      <td>9.91</td>\n",
       "      <td>9.06</td>\n",
       "    </tr>\n",
       "  </tbody>\n",
       "</table>\n",
       "</div>"
      ],
      "text/plain": [
       "             1YTR  10YTR\n",
       "date                    \n",
       "1979-01-31  10.13   8.95\n",
       "1979-02-28  10.33   9.17\n",
       "1979-03-30  10.17   9.11\n",
       "1979-04-30  10.29   9.35\n",
       "1979-05-31   9.91   9.06"
      ]
     },
     "execution_count": 36,
     "metadata": {},
     "output_type": "execute_result"
    }
   ],
   "source": [
    "int_rates = pd.read_csv('INT_RATES.csv', parse_dates=['date']).set_index(['date']).squeeze()\n",
    "int_rates.head()"
   ]
  },
  {
   "cell_type": "code",
   "execution_count": 37,
   "id": "64864858-72e1-441f-bc86-56ffbd286ec6",
   "metadata": {},
   "outputs": [
    {
     "data": {
      "text/html": [
       "<div>\n",
       "<style scoped>\n",
       "    .dataframe tbody tr th:only-of-type {\n",
       "        vertical-align: middle;\n",
       "    }\n",
       "\n",
       "    .dataframe tbody tr th {\n",
       "        vertical-align: top;\n",
       "    }\n",
       "\n",
       "    .dataframe thead th {\n",
       "        text-align: right;\n",
       "    }\n",
       "</style>\n",
       "<table border=\"1\" class=\"dataframe\">\n",
       "  <thead>\n",
       "    <tr style=\"text-align: right;\">\n",
       "      <th></th>\n",
       "      <th>date</th>\n",
       "      <th>price</th>\n",
       "      <th>intcov</th>\n",
       "      <th>ocf_lct</th>\n",
       "      <th>cash_debt</th>\n",
       "      <th>average_factor</th>\n",
       "      <th>returns</th>\n",
       "    </tr>\n",
       "    <tr>\n",
       "      <th>id</th>\n",
       "      <th></th>\n",
       "      <th></th>\n",
       "      <th></th>\n",
       "      <th></th>\n",
       "      <th></th>\n",
       "      <th></th>\n",
       "      <th></th>\n",
       "    </tr>\n",
       "  </thead>\n",
       "  <tbody>\n",
       "    <tr>\n",
       "      <th>10001</th>\n",
       "      <td>1987-08-31</td>\n",
       "      <td>0.540697</td>\n",
       "      <td>-0.048930</td>\n",
       "      <td>0.097231</td>\n",
       "      <td>0.093349</td>\n",
       "      <td>0.047217</td>\n",
       "      <td>0.000000</td>\n",
       "    </tr>\n",
       "    <tr>\n",
       "      <th>10001</th>\n",
       "      <td>1987-09-30</td>\n",
       "      <td>0.528635</td>\n",
       "      <td>-0.047790</td>\n",
       "      <td>0.098882</td>\n",
       "      <td>0.096959</td>\n",
       "      <td>0.049351</td>\n",
       "      <td>-0.022308</td>\n",
       "    </tr>\n",
       "    <tr>\n",
       "      <th>10001</th>\n",
       "      <td>1987-10-30</td>\n",
       "      <td>0.539207</td>\n",
       "      <td>-0.051882</td>\n",
       "      <td>0.099862</td>\n",
       "      <td>0.098956</td>\n",
       "      <td>0.048978</td>\n",
       "      <td>0.020000</td>\n",
       "    </tr>\n",
       "    <tr>\n",
       "      <th>10001</th>\n",
       "      <td>1987-11-30</td>\n",
       "      <td>0.523348</td>\n",
       "      <td>-0.057535</td>\n",
       "      <td>0.021457</td>\n",
       "      <td>0.098332</td>\n",
       "      <td>0.020751</td>\n",
       "      <td>-0.029412</td>\n",
       "    </tr>\n",
       "    <tr>\n",
       "      <th>10001</th>\n",
       "      <td>1987-12-31</td>\n",
       "      <td>0.505798</td>\n",
       "      <td>-0.053371</td>\n",
       "      <td>0.021327</td>\n",
       "      <td>0.100232</td>\n",
       "      <td>0.022729</td>\n",
       "      <td>-0.033535</td>\n",
       "    </tr>\n",
       "  </tbody>\n",
       "</table>\n",
       "</div>"
      ],
      "text/plain": [
       "            date     price    intcov   ocf_lct  cash_debt  average_factor  \\\n",
       "id                                                                          \n",
       "10001 1987-08-31  0.540697 -0.048930  0.097231   0.093349        0.047217   \n",
       "10001 1987-09-30  0.528635 -0.047790  0.098882   0.096959        0.049351   \n",
       "10001 1987-10-30  0.539207 -0.051882  0.099862   0.098956        0.048978   \n",
       "10001 1987-11-30  0.523348 -0.057535  0.021457   0.098332        0.020751   \n",
       "10001 1987-12-31  0.505798 -0.053371  0.021327   0.100232        0.022729   \n",
       "\n",
       "        returns  \n",
       "id               \n",
       "10001  0.000000  \n",
       "10001 -0.022308  \n",
       "10001  0.020000  \n",
       "10001 -0.029412  \n",
       "10001 -0.033535  "
      ]
     },
     "execution_count": 37,
     "metadata": {},
     "output_type": "execute_result"
    }
   ],
   "source": [
    "df.head()"
   ]
  },
  {
   "cell_type": "code",
   "execution_count": 38,
   "id": "2f7b9e9a-9f90-460b-ae10-2637deb22523",
   "metadata": {},
   "outputs": [
    {
     "data": {
      "text/html": [
       "<div>\n",
       "<style scoped>\n",
       "    .dataframe tbody tr th:only-of-type {\n",
       "        vertical-align: middle;\n",
       "    }\n",
       "\n",
       "    .dataframe tbody tr th {\n",
       "        vertical-align: top;\n",
       "    }\n",
       "\n",
       "    .dataframe thead th {\n",
       "        text-align: right;\n",
       "    }\n",
       "</style>\n",
       "<table border=\"1\" class=\"dataframe\">\n",
       "  <thead>\n",
       "    <tr style=\"text-align: right;\">\n",
       "      <th></th>\n",
       "      <th>date</th>\n",
       "      <th>price</th>\n",
       "      <th>intcov</th>\n",
       "      <th>ocf_lct</th>\n",
       "      <th>cash_debt</th>\n",
       "      <th>average_factor</th>\n",
       "      <th>returns</th>\n",
       "      <th>gp</th>\n",
       "    </tr>\n",
       "    <tr>\n",
       "      <th>id</th>\n",
       "      <th></th>\n",
       "      <th></th>\n",
       "      <th></th>\n",
       "      <th></th>\n",
       "      <th></th>\n",
       "      <th></th>\n",
       "      <th></th>\n",
       "      <th></th>\n",
       "    </tr>\n",
       "  </thead>\n",
       "  <tbody>\n",
       "    <tr>\n",
       "      <th>10001</th>\n",
       "      <td>1987-08-31</td>\n",
       "      <td>0.540697</td>\n",
       "      <td>-0.048930</td>\n",
       "      <td>0.097231</td>\n",
       "      <td>0.093349</td>\n",
       "      <td>0.047217</td>\n",
       "      <td>0.000000</td>\n",
       "      <td>-0.994403</td>\n",
       "    </tr>\n",
       "    <tr>\n",
       "      <th>10001</th>\n",
       "      <td>1987-09-30</td>\n",
       "      <td>0.528635</td>\n",
       "      <td>-0.047790</td>\n",
       "      <td>0.098882</td>\n",
       "      <td>0.096959</td>\n",
       "      <td>0.049351</td>\n",
       "      <td>-0.022308</td>\n",
       "      <td>-0.982979</td>\n",
       "    </tr>\n",
       "    <tr>\n",
       "      <th>10001</th>\n",
       "      <td>1987-10-30</td>\n",
       "      <td>0.539207</td>\n",
       "      <td>-0.051882</td>\n",
       "      <td>0.099862</td>\n",
       "      <td>0.098956</td>\n",
       "      <td>0.048978</td>\n",
       "      <td>0.020000</td>\n",
       "      <td>-1.051432</td>\n",
       "    </tr>\n",
       "    <tr>\n",
       "      <th>10001</th>\n",
       "      <td>1987-11-30</td>\n",
       "      <td>0.523348</td>\n",
       "      <td>-0.057535</td>\n",
       "      <td>0.021457</td>\n",
       "      <td>0.098332</td>\n",
       "      <td>0.020751</td>\n",
       "      <td>-0.029412</td>\n",
       "      <td>-1.611812</td>\n",
       "    </tr>\n",
       "    <tr>\n",
       "      <th>10001</th>\n",
       "      <td>1987-12-31</td>\n",
       "      <td>0.505798</td>\n",
       "      <td>-0.053371</td>\n",
       "      <td>0.021327</td>\n",
       "      <td>0.100232</td>\n",
       "      <td>0.022729</td>\n",
       "      <td>-0.033535</td>\n",
       "      <td>-1.596944</td>\n",
       "    </tr>\n",
       "  </tbody>\n",
       "</table>\n",
       "</div>"
      ],
      "text/plain": [
       "            date     price    intcov   ocf_lct  cash_debt  average_factor  \\\n",
       "id                                                                          \n",
       "10001 1987-08-31  0.540697 -0.048930  0.097231   0.093349        0.047217   \n",
       "10001 1987-09-30  0.528635 -0.047790  0.098882   0.096959        0.049351   \n",
       "10001 1987-10-30  0.539207 -0.051882  0.099862   0.098956        0.048978   \n",
       "10001 1987-11-30  0.523348 -0.057535  0.021457   0.098332        0.020751   \n",
       "10001 1987-12-31  0.505798 -0.053371  0.021327   0.100232        0.022729   \n",
       "\n",
       "        returns        gp  \n",
       "id                         \n",
       "10001  0.000000 -0.994403  \n",
       "10001 -0.022308 -0.982979  \n",
       "10001  0.020000 -1.051432  \n",
       "10001 -0.029412 -1.611812  \n",
       "10001 -0.033535 -1.596944  "
      ]
     },
     "execution_count": 38,
     "metadata": {},
     "output_type": "execute_result"
    }
   ],
   "source": [
    "df = df.merge(gp, on=['id', 'date'], how='left')\n",
    "df.head()"
   ]
  },
  {
   "cell_type": "code",
   "execution_count": 39,
   "id": "7dea9fcb-7c2d-45aa-8fad-e08e9b6243df",
   "metadata": {},
   "outputs": [
    {
     "data": {
      "text/html": [
       "<div>\n",
       "<style scoped>\n",
       "    .dataframe tbody tr th:only-of-type {\n",
       "        vertical-align: middle;\n",
       "    }\n",
       "\n",
       "    .dataframe tbody tr th {\n",
       "        vertical-align: top;\n",
       "    }\n",
       "\n",
       "    .dataframe thead th {\n",
       "        text-align: right;\n",
       "    }\n",
       "</style>\n",
       "<table border=\"1\" class=\"dataframe\">\n",
       "  <thead>\n",
       "    <tr style=\"text-align: right;\">\n",
       "      <th></th>\n",
       "      <th>date</th>\n",
       "      <th>price</th>\n",
       "      <th>intcov</th>\n",
       "      <th>ocf_lct</th>\n",
       "      <th>cash_debt</th>\n",
       "      <th>average_factor</th>\n",
       "      <th>returns</th>\n",
       "      <th>gp</th>\n",
       "      <th>mom12</th>\n",
       "    </tr>\n",
       "    <tr>\n",
       "      <th>id</th>\n",
       "      <th></th>\n",
       "      <th></th>\n",
       "      <th></th>\n",
       "      <th></th>\n",
       "      <th></th>\n",
       "      <th></th>\n",
       "      <th></th>\n",
       "      <th></th>\n",
       "      <th></th>\n",
       "    </tr>\n",
       "  </thead>\n",
       "  <tbody>\n",
       "    <tr>\n",
       "      <th>10001</th>\n",
       "      <td>1987-08-31</td>\n",
       "      <td>0.540697</td>\n",
       "      <td>-0.048930</td>\n",
       "      <td>0.097231</td>\n",
       "      <td>0.093349</td>\n",
       "      <td>0.047217</td>\n",
       "      <td>0.000000</td>\n",
       "      <td>-0.994403</td>\n",
       "      <td>-0.029368</td>\n",
       "    </tr>\n",
       "    <tr>\n",
       "      <th>10001</th>\n",
       "      <td>1987-09-30</td>\n",
       "      <td>0.528635</td>\n",
       "      <td>-0.047790</td>\n",
       "      <td>0.098882</td>\n",
       "      <td>0.096959</td>\n",
       "      <td>0.049351</td>\n",
       "      <td>-0.022308</td>\n",
       "      <td>-0.982979</td>\n",
       "      <td>0.000910</td>\n",
       "    </tr>\n",
       "    <tr>\n",
       "      <th>10001</th>\n",
       "      <td>1987-10-30</td>\n",
       "      <td>0.539207</td>\n",
       "      <td>-0.051882</td>\n",
       "      <td>0.099862</td>\n",
       "      <td>0.098956</td>\n",
       "      <td>0.048978</td>\n",
       "      <td>0.020000</td>\n",
       "      <td>-1.051432</td>\n",
       "      <td>-0.150722</td>\n",
       "    </tr>\n",
       "    <tr>\n",
       "      <th>10001</th>\n",
       "      <td>1987-11-30</td>\n",
       "      <td>0.523348</td>\n",
       "      <td>-0.057535</td>\n",
       "      <td>0.021457</td>\n",
       "      <td>0.098332</td>\n",
       "      <td>0.020751</td>\n",
       "      <td>-0.029412</td>\n",
       "      <td>-1.611812</td>\n",
       "      <td>0.521028</td>\n",
       "    </tr>\n",
       "    <tr>\n",
       "      <th>10001</th>\n",
       "      <td>1987-12-31</td>\n",
       "      <td>0.505798</td>\n",
       "      <td>-0.053371</td>\n",
       "      <td>0.021327</td>\n",
       "      <td>0.100232</td>\n",
       "      <td>0.022729</td>\n",
       "      <td>-0.033535</td>\n",
       "      <td>-1.596944</td>\n",
       "      <td>0.443773</td>\n",
       "    </tr>\n",
       "  </tbody>\n",
       "</table>\n",
       "</div>"
      ],
      "text/plain": [
       "            date     price    intcov   ocf_lct  cash_debt  average_factor  \\\n",
       "id                                                                          \n",
       "10001 1987-08-31  0.540697 -0.048930  0.097231   0.093349        0.047217   \n",
       "10001 1987-09-30  0.528635 -0.047790  0.098882   0.096959        0.049351   \n",
       "10001 1987-10-30  0.539207 -0.051882  0.099862   0.098956        0.048978   \n",
       "10001 1987-11-30  0.523348 -0.057535  0.021457   0.098332        0.020751   \n",
       "10001 1987-12-31  0.505798 -0.053371  0.021327   0.100232        0.022729   \n",
       "\n",
       "        returns        gp     mom12  \n",
       "id                                   \n",
       "10001  0.000000 -0.994403 -0.029368  \n",
       "10001 -0.022308 -0.982979  0.000910  \n",
       "10001  0.020000 -1.051432 -0.150722  \n",
       "10001 -0.029412 -1.611812  0.521028  \n",
       "10001 -0.033535 -1.596944  0.443773  "
      ]
     },
     "execution_count": 39,
     "metadata": {},
     "output_type": "execute_result"
    }
   ],
   "source": [
    "df = df.merge(mom12, on=['id', 'date'], how='left')\n",
    "df.head()"
   ]
  },
  {
   "cell_type": "code",
   "execution_count": 40,
   "id": "804ea408-4c67-49ef-a439-0f77b1a58617",
   "metadata": {},
   "outputs": [
    {
     "data": {
      "text/html": [
       "<div>\n",
       "<style scoped>\n",
       "    .dataframe tbody tr th:only-of-type {\n",
       "        vertical-align: middle;\n",
       "    }\n",
       "\n",
       "    .dataframe tbody tr th {\n",
       "        vertical-align: top;\n",
       "    }\n",
       "\n",
       "    .dataframe thead th {\n",
       "        text-align: right;\n",
       "    }\n",
       "</style>\n",
       "<table border=\"1\" class=\"dataframe\">\n",
       "  <thead>\n",
       "    <tr style=\"text-align: right;\">\n",
       "      <th></th>\n",
       "      <th>date</th>\n",
       "      <th>price</th>\n",
       "      <th>intcov</th>\n",
       "      <th>ocf_lct</th>\n",
       "      <th>cash_debt</th>\n",
       "      <th>average_factor</th>\n",
       "      <th>returns</th>\n",
       "      <th>gp</th>\n",
       "      <th>mom12</th>\n",
       "      <th>tvol</th>\n",
       "    </tr>\n",
       "    <tr>\n",
       "      <th>id</th>\n",
       "      <th></th>\n",
       "      <th></th>\n",
       "      <th></th>\n",
       "      <th></th>\n",
       "      <th></th>\n",
       "      <th></th>\n",
       "      <th></th>\n",
       "      <th></th>\n",
       "      <th></th>\n",
       "      <th></th>\n",
       "    </tr>\n",
       "  </thead>\n",
       "  <tbody>\n",
       "    <tr>\n",
       "      <th>10001</th>\n",
       "      <td>1987-08-31</td>\n",
       "      <td>0.540697</td>\n",
       "      <td>-0.048930</td>\n",
       "      <td>0.097231</td>\n",
       "      <td>0.093349</td>\n",
       "      <td>0.047217</td>\n",
       "      <td>0.000000</td>\n",
       "      <td>-0.994403</td>\n",
       "      <td>-0.029368</td>\n",
       "      <td>NaN</td>\n",
       "    </tr>\n",
       "    <tr>\n",
       "      <th>10001</th>\n",
       "      <td>1987-09-30</td>\n",
       "      <td>0.528635</td>\n",
       "      <td>-0.047790</td>\n",
       "      <td>0.098882</td>\n",
       "      <td>0.096959</td>\n",
       "      <td>0.049351</td>\n",
       "      <td>-0.022308</td>\n",
       "      <td>-0.982979</td>\n",
       "      <td>0.000910</td>\n",
       "      <td>NaN</td>\n",
       "    </tr>\n",
       "    <tr>\n",
       "      <th>10001</th>\n",
       "      <td>1987-10-30</td>\n",
       "      <td>0.539207</td>\n",
       "      <td>-0.051882</td>\n",
       "      <td>0.099862</td>\n",
       "      <td>0.098956</td>\n",
       "      <td>0.048978</td>\n",
       "      <td>0.020000</td>\n",
       "      <td>-1.051432</td>\n",
       "      <td>-0.150722</td>\n",
       "      <td>NaN</td>\n",
       "    </tr>\n",
       "    <tr>\n",
       "      <th>10001</th>\n",
       "      <td>1987-11-30</td>\n",
       "      <td>0.523348</td>\n",
       "      <td>-0.057535</td>\n",
       "      <td>0.021457</td>\n",
       "      <td>0.098332</td>\n",
       "      <td>0.020751</td>\n",
       "      <td>-0.029412</td>\n",
       "      <td>-1.611812</td>\n",
       "      <td>0.521028</td>\n",
       "      <td>NaN</td>\n",
       "    </tr>\n",
       "    <tr>\n",
       "      <th>10001</th>\n",
       "      <td>1987-12-31</td>\n",
       "      <td>0.505798</td>\n",
       "      <td>-0.053371</td>\n",
       "      <td>0.021327</td>\n",
       "      <td>0.100232</td>\n",
       "      <td>0.022729</td>\n",
       "      <td>-0.033535</td>\n",
       "      <td>-1.596944</td>\n",
       "      <td>0.443773</td>\n",
       "      <td>NaN</td>\n",
       "    </tr>\n",
       "  </tbody>\n",
       "</table>\n",
       "</div>"
      ],
      "text/plain": [
       "            date     price    intcov   ocf_lct  cash_debt  average_factor  \\\n",
       "id                                                                          \n",
       "10001 1987-08-31  0.540697 -0.048930  0.097231   0.093349        0.047217   \n",
       "10001 1987-09-30  0.528635 -0.047790  0.098882   0.096959        0.049351   \n",
       "10001 1987-10-30  0.539207 -0.051882  0.099862   0.098956        0.048978   \n",
       "10001 1987-11-30  0.523348 -0.057535  0.021457   0.098332        0.020751   \n",
       "10001 1987-12-31  0.505798 -0.053371  0.021327   0.100232        0.022729   \n",
       "\n",
       "        returns        gp     mom12  tvol  \n",
       "id                                         \n",
       "10001  0.000000 -0.994403 -0.029368   NaN  \n",
       "10001 -0.022308 -0.982979  0.000910   NaN  \n",
       "10001  0.020000 -1.051432 -0.150722   NaN  \n",
       "10001 -0.029412 -1.611812  0.521028   NaN  \n",
       "10001 -0.033535 -1.596944  0.443773   NaN  "
      ]
     },
     "execution_count": 40,
     "metadata": {},
     "output_type": "execute_result"
    }
   ],
   "source": [
    "df = df.merge(tvol, on=['id', 'date'], how='left')\n",
    "df.head()"
   ]
  },
  {
   "cell_type": "code",
   "execution_count": 41,
   "id": "4b136817-c72d-45a7-8f23-de3aa9e46ac4",
   "metadata": {},
   "outputs": [
    {
     "data": {
      "text/html": [
       "<div>\n",
       "<style scoped>\n",
       "    .dataframe tbody tr th:only-of-type {\n",
       "        vertical-align: middle;\n",
       "    }\n",
       "\n",
       "    .dataframe tbody tr th {\n",
       "        vertical-align: top;\n",
       "    }\n",
       "\n",
       "    .dataframe thead th {\n",
       "        text-align: right;\n",
       "    }\n",
       "</style>\n",
       "<table border=\"1\" class=\"dataframe\">\n",
       "  <thead>\n",
       "    <tr style=\"text-align: right;\">\n",
       "      <th></th>\n",
       "      <th>date</th>\n",
       "      <th>price</th>\n",
       "      <th>intcov</th>\n",
       "      <th>ocf_lct</th>\n",
       "      <th>cash_debt</th>\n",
       "      <th>average_factor</th>\n",
       "      <th>returns</th>\n",
       "      <th>gp</th>\n",
       "      <th>mom12</th>\n",
       "      <th>tvol</th>\n",
       "      <th>epq</th>\n",
       "    </tr>\n",
       "    <tr>\n",
       "      <th>id</th>\n",
       "      <th></th>\n",
       "      <th></th>\n",
       "      <th></th>\n",
       "      <th></th>\n",
       "      <th></th>\n",
       "      <th></th>\n",
       "      <th></th>\n",
       "      <th></th>\n",
       "      <th></th>\n",
       "      <th></th>\n",
       "      <th></th>\n",
       "    </tr>\n",
       "  </thead>\n",
       "  <tbody>\n",
       "    <tr>\n",
       "      <th>10001</th>\n",
       "      <td>1987-08-31</td>\n",
       "      <td>0.540697</td>\n",
       "      <td>-0.048930</td>\n",
       "      <td>0.097231</td>\n",
       "      <td>0.093349</td>\n",
       "      <td>0.047217</td>\n",
       "      <td>0.000000</td>\n",
       "      <td>-0.994403</td>\n",
       "      <td>-0.029368</td>\n",
       "      <td>NaN</td>\n",
       "      <td>0.036232</td>\n",
       "    </tr>\n",
       "    <tr>\n",
       "      <th>10001</th>\n",
       "      <td>1987-09-30</td>\n",
       "      <td>0.528635</td>\n",
       "      <td>-0.047790</td>\n",
       "      <td>0.098882</td>\n",
       "      <td>0.096959</td>\n",
       "      <td>0.049351</td>\n",
       "      <td>-0.022308</td>\n",
       "      <td>-0.982979</td>\n",
       "      <td>0.000910</td>\n",
       "      <td>NaN</td>\n",
       "      <td>0.043817</td>\n",
       "    </tr>\n",
       "    <tr>\n",
       "      <th>10001</th>\n",
       "      <td>1987-10-30</td>\n",
       "      <td>0.539207</td>\n",
       "      <td>-0.051882</td>\n",
       "      <td>0.099862</td>\n",
       "      <td>0.098956</td>\n",
       "      <td>0.048978</td>\n",
       "      <td>0.020000</td>\n",
       "      <td>-1.051432</td>\n",
       "      <td>-0.150722</td>\n",
       "      <td>NaN</td>\n",
       "      <td>0.035895</td>\n",
       "    </tr>\n",
       "    <tr>\n",
       "      <th>10001</th>\n",
       "      <td>1987-11-30</td>\n",
       "      <td>0.523348</td>\n",
       "      <td>-0.057535</td>\n",
       "      <td>0.021457</td>\n",
       "      <td>0.098332</td>\n",
       "      <td>0.020751</td>\n",
       "      <td>-0.029412</td>\n",
       "      <td>-1.611812</td>\n",
       "      <td>0.521028</td>\n",
       "      <td>NaN</td>\n",
       "      <td>-0.106152</td>\n",
       "    </tr>\n",
       "    <tr>\n",
       "      <th>10001</th>\n",
       "      <td>1987-12-31</td>\n",
       "      <td>0.505798</td>\n",
       "      <td>-0.053371</td>\n",
       "      <td>0.021327</td>\n",
       "      <td>0.100232</td>\n",
       "      <td>0.022729</td>\n",
       "      <td>-0.033535</td>\n",
       "      <td>-1.596944</td>\n",
       "      <td>0.443773</td>\n",
       "      <td>NaN</td>\n",
       "      <td>-0.122997</td>\n",
       "    </tr>\n",
       "  </tbody>\n",
       "</table>\n",
       "</div>"
      ],
      "text/plain": [
       "            date     price    intcov   ocf_lct  cash_debt  average_factor  \\\n",
       "id                                                                          \n",
       "10001 1987-08-31  0.540697 -0.048930  0.097231   0.093349        0.047217   \n",
       "10001 1987-09-30  0.528635 -0.047790  0.098882   0.096959        0.049351   \n",
       "10001 1987-10-30  0.539207 -0.051882  0.099862   0.098956        0.048978   \n",
       "10001 1987-11-30  0.523348 -0.057535  0.021457   0.098332        0.020751   \n",
       "10001 1987-12-31  0.505798 -0.053371  0.021327   0.100232        0.022729   \n",
       "\n",
       "        returns        gp     mom12  tvol       epq  \n",
       "id                                                   \n",
       "10001  0.000000 -0.994403 -0.029368   NaN  0.036232  \n",
       "10001 -0.022308 -0.982979  0.000910   NaN  0.043817  \n",
       "10001  0.020000 -1.051432 -0.150722   NaN  0.035895  \n",
       "10001 -0.029412 -1.611812  0.521028   NaN -0.106152  \n",
       "10001 -0.033535 -1.596944  0.443773   NaN -0.122997  "
      ]
     },
     "execution_count": 41,
     "metadata": {},
     "output_type": "execute_result"
    }
   ],
   "source": [
    "df = df.merge(epq, on=['id', 'date'], how='left')\n",
    "df.head()"
   ]
  },
  {
   "cell_type": "code",
   "execution_count": 42,
   "id": "3d5b6893-23bb-42d2-9bc0-433763604168",
   "metadata": {},
   "outputs": [
    {
     "data": {
      "text/html": [
       "<div>\n",
       "<style scoped>\n",
       "    .dataframe tbody tr th:only-of-type {\n",
       "        vertical-align: middle;\n",
       "    }\n",
       "\n",
       "    .dataframe tbody tr th {\n",
       "        vertical-align: top;\n",
       "    }\n",
       "\n",
       "    .dataframe thead th {\n",
       "        text-align: right;\n",
       "    }\n",
       "</style>\n",
       "<table border=\"1\" class=\"dataframe\">\n",
       "  <thead>\n",
       "    <tr style=\"text-align: right;\">\n",
       "      <th></th>\n",
       "      <th>date</th>\n",
       "      <th>price</th>\n",
       "      <th>intcov</th>\n",
       "      <th>ocf_lct</th>\n",
       "      <th>cash_debt</th>\n",
       "      <th>average_factor</th>\n",
       "      <th>returns</th>\n",
       "      <th>gp</th>\n",
       "      <th>mom12</th>\n",
       "      <th>tvol</th>\n",
       "      <th>epq</th>\n",
       "      <th>1YTR</th>\n",
       "      <th>10YTR</th>\n",
       "    </tr>\n",
       "  </thead>\n",
       "  <tbody>\n",
       "    <tr>\n",
       "      <th>0</th>\n",
       "      <td>1987-08-31</td>\n",
       "      <td>0.540697</td>\n",
       "      <td>-0.048930</td>\n",
       "      <td>0.097231</td>\n",
       "      <td>0.093349</td>\n",
       "      <td>0.047217</td>\n",
       "      <td>0.000000</td>\n",
       "      <td>-0.994403</td>\n",
       "      <td>-0.029368</td>\n",
       "      <td>NaN</td>\n",
       "      <td>0.036232</td>\n",
       "      <td>7.23</td>\n",
       "      <td>9.0</td>\n",
       "    </tr>\n",
       "    <tr>\n",
       "      <th>1</th>\n",
       "      <td>1987-08-31</td>\n",
       "      <td>5.820645</td>\n",
       "      <td>-0.221290</td>\n",
       "      <td>-0.205750</td>\n",
       "      <td>-0.629535</td>\n",
       "      <td>-0.352192</td>\n",
       "      <td>-0.500000</td>\n",
       "      <td>-1.684118</td>\n",
       "      <td>-1.767309</td>\n",
       "      <td>NaN</td>\n",
       "      <td>-0.188957</td>\n",
       "      <td>7.23</td>\n",
       "      <td>9.0</td>\n",
       "    </tr>\n",
       "    <tr>\n",
       "      <th>2</th>\n",
       "      <td>1987-08-31</td>\n",
       "      <td>17.999950</td>\n",
       "      <td>-0.025773</td>\n",
       "      <td>-0.035545</td>\n",
       "      <td>0.087031</td>\n",
       "      <td>0.008571</td>\n",
       "      <td>0.200000</td>\n",
       "      <td>0.513859</td>\n",
       "      <td>-0.070152</td>\n",
       "      <td>NaN</td>\n",
       "      <td>0.350831</td>\n",
       "      <td>7.23</td>\n",
       "      <td>9.0</td>\n",
       "    </tr>\n",
       "    <tr>\n",
       "      <th>3</th>\n",
       "      <td>1987-08-31</td>\n",
       "      <td>1.749389</td>\n",
       "      <td>-0.009246</td>\n",
       "      <td>-0.141769</td>\n",
       "      <td>0.130985</td>\n",
       "      <td>-0.006677</td>\n",
       "      <td>-0.095238</td>\n",
       "      <td>1.547350</td>\n",
       "      <td>0.890530</td>\n",
       "      <td>NaN</td>\n",
       "      <td>0.212032</td>\n",
       "      <td>7.23</td>\n",
       "      <td>9.0</td>\n",
       "    </tr>\n",
       "    <tr>\n",
       "      <th>4</th>\n",
       "      <td>1987-08-31</td>\n",
       "      <td>22.859614</td>\n",
       "      <td>-0.003709</td>\n",
       "      <td>-0.003573</td>\n",
       "      <td>0.130020</td>\n",
       "      <td>0.040913</td>\n",
       "      <td>0.018726</td>\n",
       "      <td>0.189006</td>\n",
       "      <td>0.836414</td>\n",
       "      <td>NaN</td>\n",
       "      <td>0.195547</td>\n",
       "      <td>7.23</td>\n",
       "      <td>9.0</td>\n",
       "    </tr>\n",
       "  </tbody>\n",
       "</table>\n",
       "</div>"
      ],
      "text/plain": [
       "        date      price    intcov   ocf_lct  cash_debt  average_factor  \\\n",
       "0 1987-08-31   0.540697 -0.048930  0.097231   0.093349        0.047217   \n",
       "1 1987-08-31   5.820645 -0.221290 -0.205750  -0.629535       -0.352192   \n",
       "2 1987-08-31  17.999950 -0.025773 -0.035545   0.087031        0.008571   \n",
       "3 1987-08-31   1.749389 -0.009246 -0.141769   0.130985       -0.006677   \n",
       "4 1987-08-31  22.859614 -0.003709 -0.003573   0.130020        0.040913   \n",
       "\n",
       "    returns        gp     mom12  tvol       epq  1YTR  10YTR  \n",
       "0  0.000000 -0.994403 -0.029368   NaN  0.036232  7.23    9.0  \n",
       "1 -0.500000 -1.684118 -1.767309   NaN -0.188957  7.23    9.0  \n",
       "2  0.200000  0.513859 -0.070152   NaN  0.350831  7.23    9.0  \n",
       "3 -0.095238  1.547350  0.890530   NaN  0.212032  7.23    9.0  \n",
       "4  0.018726  0.189006  0.836414   NaN  0.195547  7.23    9.0  "
      ]
     },
     "execution_count": 42,
     "metadata": {},
     "output_type": "execute_result"
    }
   ],
   "source": [
    "df = df.merge(int_rates, on=['date'])\n",
    "df.head()"
   ]
  },
  {
   "cell_type": "code",
   "execution_count": 43,
   "id": "e6142481-a042-4f3a-9b4d-9628bf8adebe",
   "metadata": {},
   "outputs": [
    {
     "name": "stdout",
     "output_type": "stream",
     "text": [
      "date                   0\n",
      "price                  0\n",
      "intcov                 0\n",
      "ocf_lct                0\n",
      "cash_debt              0\n",
      "average_factor         0\n",
      "returns                0\n",
      "gp                132024\n",
      "mom12              92139\n",
      "tvol              811185\n",
      "epq                81116\n",
      "1YTR                   0\n",
      "10YTR                  0\n",
      "dtype: int64\n"
     ]
    }
   ],
   "source": [
    "print(df.isnull().sum())\n",
    "df.fillna(0, inplace=True)"
   ]
  },
  {
   "cell_type": "code",
   "execution_count": 44,
   "id": "b30fdebb-bf78-4a7c-9520-67be68c94a0a",
   "metadata": {},
   "outputs": [
    {
     "name": "stdout",
     "output_type": "stream",
     "text": [
      "date              0\n",
      "price             0\n",
      "intcov            0\n",
      "ocf_lct           0\n",
      "cash_debt         0\n",
      "average_factor    0\n",
      "returns           0\n",
      "gp                0\n",
      "mom12             0\n",
      "tvol              0\n",
      "epq               0\n",
      "1YTR              0\n",
      "10YTR             0\n",
      "dtype: int64\n"
     ]
    }
   ],
   "source": [
    "print(df.isnull().sum())"
   ]
  },
  {
   "cell_type": "markdown",
   "id": "d0a48655-adf8-48ea-9b1a-077171d06c22",
   "metadata": {},
   "source": [
    "# 4. Addressing the CIO's Concerns"
   ]
  },
  {
   "cell_type": "code",
   "execution_count": 45,
   "id": "233d75a2-eab1-43fc-b05b-fafed47f8b05",
   "metadata": {},
   "outputs": [],
   "source": [
    "def information_coefficient(df, factor, returns):\n",
    "    ic, _ = spearmanr(df[factor], df[returns])\n",
    "    return ic"
   ]
  },
  {
   "cell_type": "code",
   "execution_count": 46,
   "id": "87d588e9-f11a-4b61-ade6-6dfafa9fd287",
   "metadata": {},
   "outputs": [],
   "source": [
    "# Calculate IC for new factors\n",
    "new_factors = ['intcov', 'ocf_lct', 'cash_debt']\n",
    "classic_factors = ['epq', 'mom12', 'gp', 'tvol']\n",
    "\n",
    "new_factors_ic = {factor: information_coefficient(df, factor, 'returns') for factor in new_factors}"
   ]
  },
  {
   "cell_type": "code",
   "execution_count": 47,
   "id": "18e7c0a5-5963-4f0f-ba12-d26cd577af8f",
   "metadata": {},
   "outputs": [],
   "source": [
    "# Calculate IC for classic factors\n",
    "classic_factors_ic = {factor: information_coefficient(df, factor, 'returns') for factor in classic_factors}"
   ]
  },
  {
   "cell_type": "code",
   "execution_count": 48,
   "id": "d13df01c-ffdf-4766-8f42-29e31c350188",
   "metadata": {},
   "outputs": [
    {
     "name": "stdout",
     "output_type": "stream",
     "text": [
      "Information Coefficient Results:\n",
      "      Factor  Information Coefficient\n",
      "0     intcov                 0.013775\n",
      "1    ocf_lct                 0.067358\n",
      "2  cash_debt                 0.054076\n",
      "3        epq                 0.082276\n",
      "4      mom12                 0.049975\n",
      "5         gp                 0.042841\n",
      "6       tvol                -0.025820\n"
     ]
    }
   ],
   "source": [
    "# Combine results\n",
    "ic_results = pd.DataFrame({\n",
    "    'Factor': new_factors + classic_factors,\n",
    "    'Information Coefficient': list(new_factors_ic.values()) + list(classic_factors_ic.values())\n",
    "})\n",
    "\n",
    "print(\"Information Coefficient Results:\")\n",
    "print(ic_results)"
   ]
  },
  {
   "cell_type": "code",
   "execution_count": null,
   "id": "44cc52f7-9ec5-4780-98ee-a9c5794ca048",
   "metadata": {},
   "outputs": [],
   "source": [
    "# Plotting IC Comparison\n",
    "plt.figure(figsize=(10, 6))\n",
    "plt.bar(ic_results['Factor'], ic_results['Information Coefficient'], color='skyblue')\n",
    "plt.xlabel('Factors')\n",
    "plt.ylabel('Information Coefficient')\n",
    "plt.title('Information Coefficient of New and Classic Factors')\n",
    "plt.xticks(rotation=45)\n",
    "plt.tight_layout()\n",
    "plt.show()"
   ]
  },
  {
   "cell_type": "code",
   "execution_count": null,
   "id": "7e0de21e-f9d1-4de0-b041-8ff5da2c3855",
   "metadata": {},
   "outputs": [],
   "source": [
    "# Define high interest rate periods\n",
    "interest_rate_columns = ['1YTR', '10YTR']\n",
    "df['average_interest_rate'] = df[interest_rate_columns].mean(axis=1)\n",
    "mean_interest_rate = df['average_interest_rate'].mean()\n",
    "high_interest_periods = df[df['average_interest_rate'] > mean_interest_rate]"
   ]
  },
  {
   "cell_type": "code",
   "execution_count": null,
   "id": "218732e8-9608-4e37-bbe1-1328aeb9ab05",
   "metadata": {},
   "outputs": [],
   "source": [
    "# Calculate IC for new factors during high interest rate periods\n",
    "high_interest_ic = {factor: information_coefficient(high_interest_periods, factor, 'returns') for factor in new_factors}"
   ]
  },
  {
   "cell_type": "code",
   "execution_count": null,
   "id": "a4b97ab3-dbd8-4727-b131-1eddc9a74f73",
   "metadata": {},
   "outputs": [],
   "source": [
    "# Combine results\n",
    "high_interest_ic_results = pd.DataFrame({\n",
    "    'Factor': new_factors,\n",
    "    'Overall IC': list(new_factors_ic.values()),\n",
    "    'High Interest Rate IC': list(high_interest_ic.values())\n",
    "})\n",
    "\n",
    "print(\"High Interest Rate IC Results:\")\n",
    "print(high_interest_ic_results)"
   ]
  },
  {
   "cell_type": "markdown",
   "id": "f45204ce-8e2d-4f6b-b9d8-e545dc63db93",
   "metadata": {},
   "source": [
    "## Machine Learning"
   ]
  },
  {
   "cell_type": "code",
   "execution_count": null,
   "id": "a8ef38d5-cfab-4d98-9b69-15039f8c4cbc",
   "metadata": {},
   "outputs": [],
   "source": [
    "df['date'] = pd.to_datetime(df['date'])"
   ]
  },
  {
   "cell_type": "code",
   "execution_count": null,
   "id": "51d1f567-9cb5-4b40-9db3-18f0d63bfc98",
   "metadata": {},
   "outputs": [],
   "source": [
    "# Create the target variable: 1 if next month's return is positive, else 0\n",
    "df['target'] = (df['returns'].shift(-1) > 0).astype(int)"
   ]
  },
  {
   "cell_type": "code",
   "execution_count": null,
   "id": "6b34efd6-be6c-44fd-b26f-d9fc5f71e1a7",
   "metadata": {},
   "outputs": [],
   "source": [
    "df.head()"
   ]
  },
  {
   "cell_type": "code",
   "execution_count": null,
   "id": "beff8137-055f-49bf-afd9-fae2ec322fd4",
   "metadata": {},
   "outputs": [],
   "source": [
    "# Filter the data for the specified date range\n",
    "df_filtered = df[(df['date'] >= '2007-01-01') & (df['date'] <= '2023-12-31')].dropna()"
   ]
  },
  {
   "cell_type": "code",
   "execution_count": null,
   "id": "1f7a3e7f-93be-4be0-9416-d6713f700d8f",
   "metadata": {},
   "outputs": [],
   "source": [
    "# Prepare features and target for the decision tree\n",
    "features = ['intcov', 'ocf_lct', 'cash_debt', 'epq', 'mom12', 'gp', 'tvol']\n",
    "target = 'target'\n",
    "\n",
    "X = df_filtered[features]\n",
    "y = df_filtered[target]"
   ]
  },
  {
   "cell_type": "code",
   "execution_count": null,
   "id": "7928f715-1d5c-4462-b5f7-da69e649d588",
   "metadata": {},
   "outputs": [],
   "source": [
    "# Standardize the features\n",
    "scaler = StandardScaler()\n",
    "X_scaled = scaler.fit_transform(X)"
   ]
  },
  {
   "cell_type": "code",
   "execution_count": null,
   "id": "69593b59-4f3e-4975-9b85-89ed19089366",
   "metadata": {},
   "outputs": [],
   "source": [
    "# Initialize the Decision Tree Classifier\n",
    "tree_model = DecisionTreeClassifier(max_depth=3, random_state=42)\n",
    "\n",
    "# Train the model\n",
    "tree_model.fit(X_scaled, y)"
   ]
  },
  {
   "cell_type": "code",
   "execution_count": null,
   "id": "2241d00c-f886-469f-8b5e-be4b59d59cc4",
   "metadata": {},
   "outputs": [],
   "source": [
    "# Perform 10-fold cross-validation and calculate the accuracy\n",
    "cv_scores = cross_val_score(tree_model, X_scaled, y, cv=10, scoring='accuracy')\n",
    "mean_cv_accuracy = cv_scores.mean()\n",
    "\n",
    "print(f'10-Fold Cross-Validation Accuracy: {mean_cv_accuracy:.4f}')"
   ]
  },
  {
   "cell_type": "code",
   "execution_count": null,
   "id": "5de6b388-de27-40ac-b82e-50a3a0ac4183",
   "metadata": {},
   "outputs": [],
   "source": [
    "# Feature importance\n",
    "importances = tree_model.feature_importances_\n",
    "feature_importance_df = pd.DataFrame({\n",
    "    'Feature': features,\n",
    "    'Importance': importances\n",
    "}).sort_values(by='Importance', ascending=False)\n",
    "\n",
    "print(\"Feature Importances:\")\n",
    "print(feature_importance_df)"
   ]
  }
 ],
 "metadata": {
  "kernelspec": {
   "display_name": "Python 3 (ipykernel)",
   "language": "python",
   "name": "python3"
  },
  "language_info": {
   "codemirror_mode": {
    "name": "ipython",
    "version": 3
   },
   "file_extension": ".py",
   "mimetype": "text/x-python",
   "name": "python",
   "nbconvert_exporter": "python",
   "pygments_lexer": "ipython3",
   "version": "3.11.7"
  }
 },
 "nbformat": 4,
 "nbformat_minor": 5
}
