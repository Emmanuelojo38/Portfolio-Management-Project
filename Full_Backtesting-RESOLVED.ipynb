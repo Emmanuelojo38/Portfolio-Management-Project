{
  "cells": [
    {
      "cell_type": "code",
      "execution_count": 1,
      "id": "existing-filling",
      "metadata": {
        "scrolled": true,
        "trusted": true
      },
      "outputs": [
        {
          "ename": "ModuleNotFoundError",
          "evalue": "No module named 'numpy'",
          "output_type": "error",
          "traceback": [
            "\u001b[1;31m---------------------------------------------------------------------------\u001b[0m",
            "\u001b[1;31mModuleNotFoundError\u001b[0m                       Traceback (most recent call last)",
            "Cell \u001b[1;32mIn[1], line 2\u001b[0m\n\u001b[0;32m      1\u001b[0m \u001b[38;5;66;03m# importing necessaary libraries for data analysis and visualisation\u001b[39;00m\n\u001b[1;32m----> 2\u001b[0m \u001b[38;5;28;01mimport\u001b[39;00m \u001b[38;5;21;01mnumpy\u001b[39;00m \u001b[38;5;28;01mas\u001b[39;00m \u001b[38;5;21;01mnp\u001b[39;00m\n\u001b[0;32m      3\u001b[0m \u001b[38;5;28;01mimport\u001b[39;00m \u001b[38;5;21;01mpandas\u001b[39;00m \u001b[38;5;28;01mas\u001b[39;00m \u001b[38;5;21;01mpd\u001b[39;00m\n\u001b[0;32m      4\u001b[0m \u001b[38;5;66;03m# import apmodule as ap # this is an imported function stated in the project description document\u001b[39;00m\n",
            "\u001b[1;31mModuleNotFoundError\u001b[0m: No module named 'numpy'"
          ]
        }
      ],
      "source": [
        "# importing necessaary libraries for data analysis and visualisation\n",
        "import numpy as np\n",
        "import pandas as pd\n",
        "# import apmodule as ap # this is an imported function stated in the project description document\n",
        "import matplotlib.pyplot as plt\n",
        "plt.style.use('fivethirtyeight')\n",
        "plt.rcParams['font.size'] = 10\n",
        "plt.rcParams['lines.linewidth'] = 3\n",
        "%matplotlib inline"
      ]
    },
    {
      "cell_type": "markdown",
      "id": "secondary-ivory",
      "metadata": {},
      "source": [
        "# Backtesting\n",
        "After we have ascertained that our information signal has some predictive power, now we can _back-test it_ to assess whether this predictive power can be translated into profits.\n",
        "\n",
        "This involves designing a much more realistic trading strategy based on the signal incorporating issues such as liquidity and transaction costs. A common reason why many algorithmic trading strategies fail in practice is because **the predictive power of the signal is limited to very small shares** where there is very little trading liquidity and high transaction costs.\n",
        "\n",
        "## 1. Load the Data\n",
        "As usual, we start by loading the price data and the data on the signal we want to test. We will need to use this object as a series so we pass **[`DataFrame.squeeze()`](https://pandas.pydata.org/docs/reference/api/pandas.DataFrame.squeeze.html)** at the end."
      ]
    },
    {
      "cell_type": "code",
      "execution_count": null,
      "id": "catholic-uncertainty",
      "metadata": {
        "trusted": true
      },
      "outputs": [],
      "source": [
        "# This line reads the csv file named \"Prices.csv\" into a pandas Dataframe\n",
        "# the 'parse_dates' parameter is used to specify the columns that contain date/time information. In this case the \"date\" column would be parsed as dates.\n",
        "# 'set_index(['id', 'date'])'; this function sets the index of the dataframe to be a multi-index composed of two columns: 'id', 'date'..\n",
        "# the data would be arranged in an hierarchical structure based on the two columns.\n",
        "prices = pd.read_csv('Prices.csv', parse_dates=['date']).set_index(['id', 'date']).squeeze()\n",
        "\n",
        "# this displays the first 5 data in the dataset\n",
        "prices.head()"
      ]
    },
    {
      "cell_type": "markdown",
      "id": "2bee3e9a-2c42-4f1f-92bc-705fc37e4db4",
      "metadata": {},
      "source": [
        "The same for our **information signal**:"
      ]
    },
    {
      "cell_type": "code",
      "execution_count": null,
      "id": "white-ladder",
      "metadata": {
        "trusted": true
      },
      "outputs": [],
      "source": [
        "# This line works the same as above in reading the csv file \"GP.zip\"; together with restructuring the data in a dataframe.. first 5 line should be displayed\n",
        "factor = pd.read_csv('GP.csv', parse_dates=['date']).set_index(['id', 'date']).squeeze()\n",
        "factor.head()"
      ]
    },
    {
      "cell_type": "markdown",
      "id": "devoted-pilot",
      "metadata": {},
      "source": [
        "We also load data on the **market capitalization** of each stock. This is the product between the price and the number of shares outstanding. The idea is that we will be able to invest more in larger companies without incurring **huge transactions costs** (Warning: market cap is an imperfect proxy for trading liquidity, but this is a topic for another day...)."
      ]
    },
    {
      "cell_type": "code",
      "execution_count": null,
      "id": "seasonal-necklace",
      "metadata": {
        "trusted": true
      },
      "outputs": [],
      "source": [
        "# this line works same as above\n",
        "market_cap = pd.read_csv('Market_cap.csv', parse_dates=['date']).set_index(['id', 'date']).squeeze()\n",
        "market_cap.head()"
      ]
    },
    {
      "cell_type": "markdown",
      "id": "african-canal",
      "metadata": {},
      "source": [
        "___\n",
        "## 2. Building the Strategy\n",
        "### 2.1 The \"buy\" signal\n",
        "As we remember from our simplified moving average strategy in week 4, the first step to build an algorithmic portfolio is to build the trading signal. Here we are looking at a **long-only** portfolio so we only need a signal that tells us when to buy a stock. \n",
        "\n",
        "For sake of simplicity we will limit our repertoire to a simple ranking strategy where we:\n",
        "1. At the beginning of the period we rank all the shares on the information signal\n",
        "1. We buy the N shares at the top of the ranking\n",
        "\n",
        "Although it seems very simplistic this is not far from the reality of the most common factor-based strategy. Both the [Citigroup Industry Rotation Model](https://drive.google.com/file/d/0B1gltCdg5OaJT3cxSWthd2hoUVk/view?usp=sharing&resourcekey=0-hDFDrZVrBtAYjkQZqiVD-A) and the [AQR Value-Momentum Strategy](https://drive.google.com/file/d/11XRh8hob05F09LbwRc9VvHLixysFriEU/view?usp=sharing) follow a similar rule where they buy the _Top-33%_ of the market. In this case they do not define the number but the percentage...\n",
        "\n",
        "We start by defining the number `N` of shares we want to buy:"
      ]
    },
    {
      "cell_type": "code",
      "execution_count": null,
      "id": "responsible-exemption",
      "metadata": {
        "trusted": true
      },
      "outputs": [],
      "source": [
        "# Defining variable N, and setting value to 200.\n",
        "N=200"
      ]
    },
    {
      "cell_type": "markdown",
      "id": "restricted-powell",
      "metadata": {},
      "source": [
        "We use the **[`Series.rank()`](https://pandas.pydata.org/docs/reference/api/pandas.Series.rank.html)** method to rank shares in desceninding order (1=highest factor). Notice that since we want a different rank for every date we need to use the **[`Series.groupby()`](https://pandas.pydata.org/docs/reference/api/pandas.Series.groupby.html)** operator. The `method='min'` at the end tells Pandas how to handle \"ties\", stocks with the same signal value."
      ]
    },
    {
      "cell_type": "code",
      "execution_count": null,
      "id": "brutal-dubai",
      "metadata": {
        "trusted": true
      },
      "outputs": [],
      "source": [
        "# Define variable rank, and setting the value as the dataframe 'factor', and grouping it by date column..\n",
        "# .rank(ascending=False, method='min'); this calculates the rank of each value within each group, in descending order and specifying the method used to assign ranks when there are ties.\n",
        "# the 'min' method ensures that if there are ties, the smallest rank is assigned.\n",
        "rank = factor.groupby('date').rank(ascending=False, method='min')\n",
        "rank.head()"
      ]
    },
    {
      "cell_type": "markdown",
      "id": "bulgarian-machinery",
      "metadata": {},
      "source": [
        "Our **buy signal** will now be simply a rank lower than `N`:"
      ]
    },
    {
      "cell_type": "code",
      "execution_count": null,
      "id": "adolescent-subdivision",
      "metadata": {
        "trusted": true
      },
      "outputs": [],
      "source": [
        "# creating a signal variable assigned with values lower than N\n",
        "signal = rank < N\n",
        "signal.head()"
      ]
    },
    {
      "cell_type": "markdown",
      "id": "arbitrary-meaning",
      "metadata": {},
      "source": [
        "Notice that the logical operator returns a Boolean variable `True/False`. This work for us because internally they are treated as `True = 1` and `False = 0`. If we prefer a numerical expression we can simply use the [**`Series.astype()`**](https://pandas.pydata.org/pandas-docs/stable/reference/api/pandas.Series.astype.html) to transform the type of the Series **to integer number**."
      ]
    },
    {
      "cell_type": "code",
      "execution_count": null,
      "id": "collected-cream",
      "metadata": {
        "trusted": true
      },
      "outputs": [],
      "source": [
        "# changing the values to integer and displaying first 5 data\n",
        "signal = (rank < N).astype(int)\n",
        "signal.head()"
      ]
    },
    {
      "cell_type": "markdown",
      "id": "affecting-assessment",
      "metadata": {},
      "source": [
        "### 2.2 The Position Size\n",
        "Now that we have the buy signal we need to **calculate the investment position**. To be more realistic we will **build a cap-weighted strategy**: if stock A and stock B are both in my \"buy list\" and stock A has a market capitalization double that of stock B, then stock A will have a weight in my portfolio that is double the weight of stock B.\n",
        "\n",
        "To achieve this we need to join signal and market capitalization:"
      ]
    },
    {
      "cell_type": "code",
      "execution_count": null,
      "id": "equal-longer",
      "metadata": {
        "trusted": true
      },
      "outputs": [],
      "source": [
        "# creates a variable 'df' and assigns variables with function that renames series signal and converts it to a dataframe using the 'to_frame()' method\n",
        "# .join(market_cap); joins the created dataframe with 'market_cap' created above \n",
        "df = signal.rename('signal').to_frame().join(market_cap)\n",
        "df.head()"
      ]
    },
    {
      "cell_type": "markdown",
      "id": "light-drama",
      "metadata": {},
      "source": [
        "The code to calculate the position is not very intuitive. Let's break it down: we need to **divide the market** cap of our share **for the sum** of the market cap of all the shares in the **buy portfolio** in that **specific month**.\n",
        "\n",
        "To get the sum of the market caps for the shares in the buy portfolio each month we need to use the [**`DataFrame.groupby()`**](https://pandas.pydata.org/pandas-docs/stable/reference/api/pandas.DataFrame.groupby.html) operator with two variables (`date` and `signal`). This will group observations by month and by whether they are in the buy portfolio or not. \n",
        "\n",
        "You will also notice the use of the method [**`DataFrame.transform()`**](https://pandas.pydata.org/pandas-docs/stable/reference/api/pandas.DataFrame.transform.html). I will explain this at the end of the section."
      ]
    },
    {
      "cell_type": "code",
      "execution_count": null,
      "id": "twelve-athletics",
      "metadata": {
        "trusted": true
      },
      "outputs": [],
      "source": [
        "# This line calculates the weight of each stock within each group defined by unique combinations of dates and signals..\n",
        "# dividing the market capitalization of each stock by the sum of market capitalisations within each group. this effectively calculates the proportion of market capitalization each stock represents within its respective group. \n",
        "position = df['market_cap'] / df.groupby(['date', 'signal'])['market_cap'].transform('sum')\n",
        "position = position * df['signal'] #this puts the weight of all the stocks not in top quantile to 0\n",
        "position.head()"
      ]
    },
    {
      "cell_type": "markdown",
      "id": "greenhouse-speech",
      "metadata": {},
      "source": [
        "It is not easy to visualize the return because most observations are `0` (we only buy 200 out of 6000 shares). What we can do is to verify that in every month, **the sum of the portfolio weights** is 100%."
      ]
    },
    {
      "cell_type": "code",
      "execution_count": null,
      "id": "sought-blast",
      "metadata": {
        "trusted": true
      },
      "outputs": [],
      "source": [
        "# this position groups the position data by 'date' index.. creating groups of positions for each date..\n",
        "# .sum() calculates the sum of positions within each group, effectively summing up the positions for each date..\n",
        "position.groupby('date').sum()"
      ]
    },
    {
      "cell_type": "markdown",
      "id": "honest-roots",
      "metadata": {},
      "source": [
        "This is confirmed! So we have a position variable that for every time period (month here) tells us **which percentage of our portfolio will be invested in each stock**. As usual all of this code will be **encapsulated in a function**, but now this function will also perform the **full back-testing** of the strategy. Now that we have the portfolio composition we \"only\" need to simulate the investment and measure the performance. "
      ]
    },
    {
      "cell_type": "markdown",
      "id": "native-cologne",
      "metadata": {},
      "source": [
        "___\n",
        "### Coding issue: the use of .transform()\n",
        "\n",
        "Above we had to calculate the sum of the market cap by applying the sum function within  the method [**`DataFrame.transform()`**](https://pandas.pydata.org/pandas-docs/stable/reference/api/pandas.DataFrame.transform.html). The reason is that we want an output with the same shape as the original data: for every share and month we want to know the sum of the weights, in that month, of all the shares with the same buy status (buy or no buy) as the share we are looking at. By using transform we get exactly this: we apply the `sum` function and **return an object with the same index** (shape) as the input."
      ]
    },
    {
      "cell_type": "code",
      "execution_count": null,
      "id": "linear-trout",
      "metadata": {
        "trusted": true
      },
      "outputs": [],
      "source": [
        "# groups dataframe 'df'  by  'date' and 'signal' , thereby creating groups based on this groups of signals\n",
        "# the aggregation would be performed on 'market_cap' column; this would be the summation of the market capitalisation\n",
        "df.groupby(['date', 'signal'])['market_cap'].transform('sum')"
      ]
    },
    {
      "cell_type": "markdown",
      "id": "exterior-detroit",
      "metadata": {},
      "source": [
        "If we were to calculate the sum using the regular method [**`DataFrame.sum()`**](https://pandas.pydata.org/docs/reference/api/pandas.DataFrame.sum.html) we would return an object that tells us the sum of the market cap, every month, of all the shares in and out of the buy portfolio:"
      ]
    },
    {
      "cell_type": "code",
      "execution_count": null,
      "id": "reliable-mountain",
      "metadata": {
        "trusted": true
      },
      "outputs": [],
      "source": [
        "# same as above\n",
        "df.groupby(['date', 'signal'])['market_cap'].sum()"
      ]
    },
    {
      "cell_type": "markdown",
      "id": "becoming-joining",
      "metadata": {},
      "source": [
        "This is a bit of a complication, but all this code will be encapsulated in a function anyway. \n",
        "___"
      ]
    },
    {
      "cell_type": "markdown",
      "id": "fossil-sentence",
      "metadata": {},
      "source": [
        "## 3. Backtesting the Position\n",
        "Now that we have built our postion **we can backtest it**: we can simulate the investment strategy using past data and measure its return. The building of the backtesting function is quite complicated. This is mainly due to the **transaction costs**: to estimate the cost of trading we need to keep track of the portfolio composition month by month: the amount of trading that we need to execute in time $t$ is a function not only of the target composition of the portfolio at time $t$, but also of the actual portfolio composition at $t-1$.\n",
        "\n",
        "Building this function is beyond the coding level required for this subject, and would force us to focus too much on the coding instead of the financial reasoning behind a specific investment strategy. To solve this problem the function has already been **created and stored in our own module** (`apmodule.py`) already imported in this notebook.\n",
        "\n",
        "The backtesting function requires eight inputs and produces four different output. The input parameters are:\n",
        "1. The information **signal** (passed as a series)\n",
        "1. The stock **prices** (passed as a series)\n",
        "1. The market **capitalization** (passed as a series)\n",
        "1. The **Start** Date (this can be omitted)\n",
        "1. The **End** Date (this can also be omitted)\n",
        "1. The rebalancing **frequency** (the default value is rebalancing every month)\n",
        "1. The round-trip **transaction costs** (the default value is zero)\n",
        "1. The **number of stocks** we want to buy (works similarly to the `N` parameter in our ranking strategy, the default value is 100)\n",
        "\n",
        "The output produced are (in this precise order):\n",
        "1. A DataFrame with the monthly **return** of the portfolio, the benchmark and the difference betwen the two (called _Active Return_)\n",
        "1. A DataFrame with the monthly **turnover** and transaction costs of the strategy\n",
        "1. A DataFrame with the **composition** of portfolio and benchmark\n",
        "1. A DataFrame with a number of **performance metrics** for portfolio, benchmark and active portfolio\n",
        "\n",
        "Before we discuss this in more detail let's take it out for a spin:"
      ]
    },
    {
      "cell_type": "code",
      "execution_count": null,
      "id": "oriental-layer",
      "metadata": {
        "trusted": true
      },
      "outputs": [],
      "source": [
        "# conducting the backtest using the 'ap.backtesting()' function, likely to evaluate the performance of your trading strategy..\n",
        "# transaction cost, assumed to be 0.15% represented as t_cost = 0.0015\n",
        "p_ret, p_turn, p_comp, p_perf = ap.backtesting(factor, prices, market_cap, \n",
        "                                               start='1990-01-01', end='2007-12-31', \n",
        "                                               frequency=1, t_cost=0.0015, N=200)"
      ]
    },
    {
      "cell_type": "markdown",
      "id": "miniature-study",
      "metadata": {},
      "source": [
        "Let's have a look at the different output:"
      ]
    },
    {
      "cell_type": "code",
      "execution_count": null,
      "id": "automated-boards",
      "metadata": {
        "trusted": true
      },
      "outputs": [],
      "source": [
        "# this should represent the portfolio returns from the backtested strategy\n",
        "p_ret.head()"
      ]
    },
    {
      "cell_type": "code",
      "execution_count": null,
      "id": "iraqi-wallet",
      "metadata": {
        "trusted": true
      },
      "outputs": [],
      "source": [
        "# this should represent the portfolio turnover\n",
        "p_turn.head()"
      ]
    },
    {
      "cell_type": "code",
      "execution_count": null,
      "id": "floral-jordan",
      "metadata": {
        "trusted": true
      },
      "outputs": [],
      "source": [
        "# this would represent the composition of the portfolio\n",
        "p_comp.head()"
      ]
    },
    {
      "cell_type": "code",
      "execution_count": null,
      "id": "premier-provider",
      "metadata": {
        "trusted": true
      },
      "outputs": [],
      "source": [
        "# this would represent the performance metrics\n",
        "p_perf"
      ]
    },
    {
      "cell_type": "markdown",
      "id": "prostate-apartment",
      "metadata": {},
      "source": [
        "Before we move to the economic interpretation of the results, let's briefly **discuss some aspects of the function**.\n",
        "\n",
        "First of all you will notice that backtesting function starts from the information signal, not from the position. This is because the backtesting function itself **creates the position** based on a ranking strategy similar to the one implemented at the beginning of this notebook. This makes our life easier: we only need one line of code.\n",
        "\n",
        "Second, this function has been **created specifically** for this subject and needs data and input formatted according to the specification of the subject. This is a bit of let-down, but is infact a feature common to most python backtesting libraries (see for example [Backtrader](https://www.backtrader.com/) and [Quantconnect](https://www.quantconnect.com/)). I would like to reiterate that the purpose of this function is to help you test algorithmic strategies to understand the \"finance\" behind them. If you are interested in a more efficient general purpose backtesting function, I suggest you look at one of the providers just mentioned."
      ]
    },
    {
      "cell_type": "markdown",
      "id": "9b60dd59-4ce8-48b2-a5a1-0fc160a5458b",
      "metadata": {},
      "source": [
        "___\n",
        "### Exercise 09.01\n",
        "While many investors and portfolio managers love momentum strategies, others have a feeling that these strategies have overstayed their welcome: they used to perform well in the past but in the last years they have been underwhelming. Load the data on 12-months momentum from `MOM12.zip` and backtest the strategy three times on three different periods:\n",
        "* 1990 - 1999\n",
        "* 2000 - 2009\n",
        "* 2010 - 2019\n",
        "\n",
        "Is it true that the profitability of this strategy has decreased? \n",
        "\n",
        "**STEP 1:** Load the data on 12-months momentum from `MOM12.zip`"
      ]
    },
    {
      "cell_type": "code",
      "execution_count": null,
      "id": "provincial-combat",
      "metadata": {
        "trusted": true
      },
      "outputs": [],
      "source": [
        "# Load the data on 12-months momentum from MOM12.zip\n",
        "mom12 = pd.read_csv('MOM12.csv', parse_dates=['date']).set_index(['id', 'date']).squeeze()\n",
        "# Display the first 5 rows of the momentum data\n",
        "mom12.head()"
      ]
    },
    {
      "cell_type": "markdown",
      "id": "7d2c3b27-4ae1-45b2-87c2-550fcec1ce2f",
      "metadata": {},
      "source": [
        "**STEP 2:** Run the backtesting function 3 times changing `start` and `end` to match the three windows described in the question. Choose different names for the output DataFrames to make them easily recognizable. Use the default values for rebalancing frequency, transaction costs and number of shares. "
      ]
    },
    {
      "cell_type": "code",
      "execution_count": null,
      "id": "eight-scott",
      "metadata": {
        "trusted": true
      },
      "outputs": [],
      "source": [
        "# Backtest for the period 1990-1999\n",
        "m_ret90, m_turn90, m_comp90, m_perf90 = ap.backtesting(mom12, prices, market_cap, start='1990-01-01', end='1999-12-31')\n",
        "\n",
        "# Backtest for the period 2000-2009\n",
        "m_ret00, m_turn00, m_comp00, m_perf00 = ap.backtesting(mom12, prices, market_cap, start='2000-01-01', end='2009-12-31')\n",
        "\n",
        "# Backtest for the period 2010-2019\n",
        "m_ret10, m_turn10, m_comp10, m_perf10 = ap.backtesting(mom12, prices, market_cap, start='2010-01-01', end='2019-12-31')"
      ]
    },
    {
      "cell_type": "markdown",
      "id": "3fbb429d-7d11-48da-8247-f812233e1269",
      "metadata": {},
      "source": [
        "**STEP 3:** Show if the performance of the strategy has declined. You can do this by simply showing the performance tables of the three strategies. "
      ]
    },
    {
      "cell_type": "code",
      "execution_count": null,
      "id": "anticipated-adaptation",
      "metadata": {
        "trusted": true
      },
      "outputs": [],
      "source": [
        "# Performance metrics for the period 1990-1999\n",
        "m_perf90"
      ]
    },
    {
      "cell_type": "code",
      "execution_count": null,
      "id": "derived-catalyst",
      "metadata": {
        "trusted": true
      },
      "outputs": [],
      "source": [
        "# Performance metrics for the period 2000-2009\n",
        "m_perf00"
      ]
    },
    {
      "cell_type": "code",
      "execution_count": null,
      "id": "municipal-farmer",
      "metadata": {
        "trusted": true
      },
      "outputs": [],
      "source": [
        "# Performance metrics for the period 2010-2019\n",
        "m_perf10"
      ]
    },
    {
      "cell_type": "markdown",
      "id": "c33a473c-c311-4840-b757-f09498ed2553",
      "metadata": {},
      "source": [
        "**STEP 4 (Coding Challenge):** Here is something more original. Many times when you want to push a message across, for example convincing your boss to drop this strategy, you want to be as \"punchy\" as possible. Let's see if you can plot a simple bar graph with Information Ratio of the three strategies. Of course you could simply copy the three numbers and do the graph in Excel. This would take 90 seconds, **and would be the smart thing to to do**...but let's see if you can do it in Python. \n",
        "\n",
        "**HINT 1:** To access a single number in the DataFrame you need to use the [**`DataFrame.loc()`**](https://pandas.pydata.org/docs/reference/api/pandas.DataFrame.loc.html) method passing the name of the row and the name of the column. For example, to access the percentage of positive returns for the benchmark in the main example in the test you would use:\n",
        "```python\n",
        "p_perf.loc['% Positive', 'Benchmark']\n",
        "```\n",
        "\n",
        "**HINT 2:** To transform some numbers into a DataFrame you need to use the [**`pandas.DataFrame()`**](https://pandas.pydata.org/docs/reference/api/pandas.DataFrame.html) passing the numbers as a list."
      ]
    },
    {
      "cell_type": "code",
      "execution_count": null,
      "id": "absolute-passing",
      "metadata": {
        "trusted": true
      },
      "outputs": [],
      "source": [
        "# Calculate the Relative Return (RR) Ratio for the active portfolio for each period\n",
        "# Access the RR Ratio values from the 'm_perf90', 'm_perf00', and 'm_perf10' DataFrames using the .loc[] method\n",
        "# Extract the RR Ratio specifically for the active portfolio by specifying 'Active' as the column name\n",
        "# Store the RR Ratio values in a list named 'ir', with elements corresponding to the periods 1990-1999, 2000-2009, and 2010-2019\n",
        "ir = [m_perf90.loc['RR Ratio','Active'], m_perf00.loc['RR Ratio','Active'], m_perf10.loc['RR Ratio','Active']]  # RR Ratio for the active portfolio during the period 1990-1999\n",
        "ir"
      ]
    },
    {
      "cell_type": "code",
      "execution_count": null,
      "id": "criminal-dealing",
      "metadata": {
        "trusted": true
      },
      "outputs": [],
      "source": [
        "# Create a DataFrame to hold the Information Ratios calculated for each period\n",
        "# Use the previously calculated RR Ratios stored in the list 'ir' as the data\n",
        "# Set the index of the DataFrame to represent the periods: '1990-1999', '2000-2009', and '2010-2019'\n",
        "# Set the column name as 'Information Ratio' to denote the metric being represented\n",
        "info_ratio = pd.DataFrame(ir, index=['1990-1999', '2000-2009', '2010-2019'], columns=['Information Ratio'])\n",
        "info_ratio"
      ]
    },
    {
      "cell_type": "code",
      "execution_count": null,
      "id": "boring-netherlands",
      "metadata": {
        "trusted": true
      },
      "outputs": [],
      "source": [
        "# Plot a bar graph to visualize the Information Ratio of the momentum strategy for each backtesting period\n",
        "# Set the figure size to (10, 6) for better visibility\n",
        "# Use the .plot() method on the DataFrame 'info_ratio' to create the bar graph\n",
        "# Specify 'kind='bar'' to create a bar graph\n",
        "# Set the title of the plot to 'Information Ratio Momentum Strategy' for clarity\n",
        "# Set the xlabel to 'Backtesting Period' to label the x-axis\n",
        "# Set the ylabel to 'Annualized Information Ratio' to label the y-axis\n",
        "# Disable the legend by setting legend=False since it's not necessary for this plot\n",
        "info_ratio.plot(figsize=(10,6),\n",
        "                kind='bar',\n",
        "                title='Information Ratio Momentum Strategy',\n",
        "                xlabel='Backtesting Period',\n",
        "                ylabel='Annualized Information Ratio',\n",
        "                legend=False)"
      ]
    },
    {
      "cell_type": "markdown",
      "id": "tropical-tactics",
      "metadata": {},
      "source": [
        "___\n",
        "## 4. Assessing the performance of the strategy\n",
        "Once we have run the backtesting we are left with a number of output that we can use to **see if the strategy is any good**. Here we will see what we can get out of each one of them in terms of **economic interpretation**.\n",
        "\n",
        "### 4.1 The monthly performance\n",
        "The first output of the function is a DataFrame with the monthly performance of the strategy (and the benchmark). There isn't much that we can do with this directly (apart from calculating further performance measures as we will see in a minute). For sure we can **plot the performance** to get some nice visual. We have already seen this in the code for the quantile analysis.\n",
        "\n",
        "We start by calculating the value of the portfolio at the end of every month assuming an initial investment of 1 dollar. Since we are using logarithmic returns this is trivial. We know that if an asset has, in three periods, returns equal to $r_{1}$, $r_{2}$ and $r_{3}$, than the return from time 0 to time 3 is simply the sum\n",
        "$$r_{0, 3} = \\sum_{t=1}^{3}r_{t}$$\n",
        "\n",
        "And we also know that the dollar value at the end of time 3 of a $1 investment in time 0 is\n",
        "\n",
        "$$W_{3} = \\$1\\times e^{r_{0, 3}}$$\n",
        "\n",
        "We can simply apply the Numpy exponential function [**`numpy.exp()`**](https://numpy.org/doc/stable/reference/generated/numpy.exp.html) to the cumulative returns calculated using the [**`DataFrame.cumsum()`**](https://pandas.pydata.org/pandas-docs/stable/reference/api/pandas.DataFrame.cumsum.html) method. \n"
      ]
    },
    {
      "cell_type": "code",
      "execution_count": null,
      "id": "decent-lyric",
      "metadata": {
        "trusted": true
      },
      "outputs": [],
      "source": [
        "# Calculate the cumulative sum of the monthly returns and apply the exponential function to obtain portfolio values over time\n",
        "# Use the .cumsum() method on the DataFrame 'p_ret' to calculate the cumulative sum of the monthly returns\n",
        "# Apply the exponential function np.exp() to convert the cumulative returns into portfolio values\n",
        "port_values = p_ret.cumsum().apply(np.exp)\n",
        "\n",
        "# Plot the portfolio values over time\n",
        "# Set the figure size to (10, 6) for better visibility\n",
        "# Use the .plot() method on the DataFrame 'port_values' to create the line plot\n",
        "# Specify 'figsize=(10, 6)' to set the size of the plot\n",
        "# Set the title of the plot to 'Top-200 Rank Strategy' for clarity\n",
        "# Set the ylabel to 'Portfolio Value' to label the y-axis\n",
        "# Set the xlabel to 'Time' to label the x-axis\n",
        "# Specify 'rot=0' to force the x-axis labels to be horizontal\n",
        "port_values.plot(figsize=(10,6),\n",
        "                 title='Top-200 Rank Strategy',\n",
        "                 ylabel='Portfolio Value',\n",
        "                 xlabel='Time',\n",
        "                 rot=0) #This forces the lables on the x axis to be horizontal"
      ]
    },
    {
      "cell_type": "markdown",
      "id": "occupied-karen",
      "metadata": {},
      "source": [
        "___\n",
        "### 4.2 Performance Metrics\n",
        "The last output of the function is a very handy DataFrame with a number of performance measures, or **diagnostics**."
      ]
    },
    {
      "cell_type": "code",
      "execution_count": null,
      "id": "becoming-mattress",
      "metadata": {
        "trusted": true
      },
      "outputs": [],
      "source": [
        "# Display performance metrics DataFrame\n",
        "p_perf"
      ]
    },
    {
      "cell_type": "markdown",
      "id": "built-butler",
      "metadata": {},
      "source": [
        "This DataFrame is built using a function `diagnostics()` contained in our `apmodule`. It is important that you are familiar on how these measures are built in case you need to build some different ones for your assignment.\n",
        "\n",
        "We are **already familiar** on how to measure mean return, standard deviation and Return-to-Risk ratio, so there is no need for us to discuss them here. Please notice that the return-to-risk ratio of the active portfolio, also called the **Information Ratio** is one of the most important performance metrics and is commonly used as the main measure of quality of the strategy. An **IR greater than 1** is the gold standard for succesful strategy. \n",
        "\n",
        "After these standard measures, the table also shows some **non-parametric measures of risk**. The first one is the **percentage of months with positive return** (for the active portfolio this means months where the portfolio outperforms the benchmark). The calculation is pretty straightforward:"
      ]
    },
    {
      "cell_type": "code",
      "execution_count": null,
      "id": "4a6e8bdf-24a1-4db6-bb5d-031f7b63414c",
      "metadata": {
        "trusted": true
      },
      "outputs": [],
      "source": [
        "# Count the number of positive returns in the DataFrame p_ret\n",
        "# Use boolean indexing to filter out positive returns (returns greater than 0)\n",
        "# Use the .count() method to count the number of positive returns\n",
        "p_ret[p_ret>0].count()"
      ]
    },
    {
      "cell_type": "code",
      "execution_count": null,
      "id": "imposed-beads",
      "metadata": {
        "trusted": true
      },
      "outputs": [],
      "source": [
        "# Calculate the proportion of positive returns in the DataFrame p_ret\n",
        "# Use boolean indexing to filter out positive returns (returns greater than 0)\n",
        "# Count the number of positive returns using the .count() method\n",
        "# Divide the count of positive returns by the total number of returns to calculate the proportion\n",
        "# Store the result in the variable p_positive\n",
        "p_positive = p_ret[p_ret>0].count()/p_ret.count()\n",
        "\n",
        "# Display the proportion of positive returns\n",
        "p_positive"
      ]
    },
    {
      "cell_type": "markdown",
      "id": "legal-swedish",
      "metadata": {},
      "source": [
        "We then gauge the **extreme risk** of the strategy by measuring the **best and worst** monthly return:"
      ]
    },
    {
      "cell_type": "code",
      "execution_count": null,
      "id": "residential-stability",
      "metadata": {
        "trusted": true
      },
      "outputs": [],
      "source": [
        "# Calculate the worst monthly return by finding the minimum value in the DataFrame p_ret\n",
        "worst = p_ret.min()\n",
        "worst"
      ]
    },
    {
      "cell_type": "code",
      "execution_count": null,
      "id": "aging-laundry",
      "metadata": {
        "trusted": true
      },
      "outputs": [],
      "source": [
        "# Calculate the best monthly return by finding the maximum value in the DataFrame p_ret\n",
        "best = p_ret.max()\n",
        "best"
      ]
    },
    {
      "cell_type": "markdown",
      "id": "recreational-article",
      "metadata": {},
      "source": [
        "#### 4.2.1 The Max Drawdown\n",
        "A performance metric that is often used in portfolio management is the so-called [Max Drawdown (MDD)](https://www.investopedia.com/terms/m/maximum-drawdown-mdd.asp), this is the maximum continuous loss experienced by the portfolio in a given time frame. For example the 12-months MDD is the **worst drop in value** experienced by the portfolio **from the peak value** achieved within the last 12 months.  "
      ]
    },
    {
      "cell_type": "code",
      "execution_count": null,
      "id": "removed-request",
      "metadata": {
        "trusted": true
      },
      "outputs": [],
      "source": [
        "#we derive the portfolio values from the monthly returns\n",
        "port_values = p_ret.cumsum().apply(np.exp)\n",
        "\n",
        "#we take the max portfolio value over the last 12 months\n",
        "rolling_peak = port_values.rolling(12).max()\n",
        "\n",
        "#we take the percentage difference between the current value and the rolling peak\n",
        "drawdown = np.log(port_values/rolling_peak)\n",
        "\n",
        "#we take the worst drawdown experienced (...called max because it's a negative number...)\n",
        "max_drawdown = drawdown.min().rename('Max Drawdown')\n",
        "max_drawdown"
      ]
    },
    {
      "cell_type": "markdown",
      "id": "useful-gateway",
      "metadata": {},
      "source": [
        "Some people like to **plot the Drawdown** to provide a visual indication of when the portfolio experienced the worst consecutive loss:"
      ]
    },
    {
      "cell_type": "code",
      "execution_count": null,
      "id": "specific-millennium",
      "metadata": {
        "trusted": true
      },
      "outputs": [],
      "source": [
        "# Plot the drawdown over time\n",
        "# Set the figure size to (10, 6) for better visibility\n",
        "# Use the .plot() method on the drawdown DataFrame to create the line plot\n",
        "# Specify 'figsize=(10, 6)' to set the size of the plot\n",
        "# Set the title of the plot to '12-M Drawdown' for clarity\n",
        "# Set the ylabel to 'Drawdown %' to label the y-axis\n",
        "# Set the xlabel to 'Time' to label the x-axis\n",
        "# Specify 'rot=0' to force the x-axis labels to be horizontal\n",
        "drawdown.plot(figsize=(10,6),\n",
        "              title='12-M Drawdown',\n",
        "              ylabel='Drawdown %',\n",
        "              xlabel='Time',\n",
        "              rot=0)"
      ]
    },
    {
      "attachments": {
        "c53d049e-54ca-44e5-923a-f067c7639c9d.png": {
          "image/png": "[encoded data removed]"
        }
      },
      "cell_type": "markdown",
      "id": "local-committee",
      "metadata": {},
      "source": [
        "To understand the meaning of the drawdown we can plot the value of the portfolio and observe that the MDD captures the shart fall in the portfolio value after the **bursting of the dot.com bubble** of Mach 2000.\n",
        "\n",
        "![plot.png](attachment:c53d049e-54ca-44e5-923a-f067c7639c9d.png)\n",
        "\n",
        "All these performance measures can then be included in a simple function. Please notice that this function is available in `apmodule` and is **called automatically** by the backtesting function."
      ]
    },
    {
      "cell_type": "code",
      "execution_count": null,
      "id": "known-strike",
      "metadata": {
        "trusted": true
      },
      "outputs": [],
      "source": [
        "def diagnostics(port_ret):\n",
        "    mean_return = port_ret.mean()*12     # Calculate the annualized mean return of the portfolio\n",
        "    volatility = port_ret.std()*np.sqrt(12)    # Calculate the annualized volatility of the portfolio\n",
        "    rr_ratio = (port_ret.mean()*12) / (port_ret.std()*np.sqrt(12))    # Calculate the Risk-Return Ratio (RR Ratio) of the portfolio\n",
        "    p_positive = port_ret[port_ret>0].count()/port_ret.count()    # Calculate the proportion of positive returns in the portfolio  \n",
        "    worst = port_ret.min()     # Calculate the worst monthly return of the portfolio\n",
        "    best = port_ret.max()     # Calculate the best monthly return of the portfolio\n",
        "    \n",
        "    #we derive the portfolio values from the monthly returns\n",
        "    port_val = port_ret.cumsum().apply(np.exp)\n",
        "    rolling_peak = port_val.rolling(12).max()     # Calculate the rolling maximum portfolio value over the last 12 months\n",
        "    drawdown = np.log(port_val/rolling_peak)     # Calculate the drawdown, which represents the percentage difference between the current portfolio value and the rolling peak\n",
        "    max_drawdown = drawdown.min().rename('Max Drawdown')    # Calculate the maximum drawdown experienced by the portfolio\n",
        "\n",
        "    # Create a DataFrame to store the calculated performance metrics\n",
        "    performance = pd.DataFrame({'Mean Return': mean_return,\n",
        "                                'St. Dev.': volatility,\n",
        "                                'RR Ratio': rr_ratio,\n",
        "                                '% Positive': p_positive,\n",
        "                                'Worst Month': worst,\n",
        "                                'Best Month': best,\n",
        "                                'Max DrawDown': max_drawdown})\n",
        "\n",
        "    # Transpose the DataFrame for better readability\n",
        "    return performance.transpose()"
      ]
    },
    {
      "cell_type": "markdown",
      "id": "fifth-glass",
      "metadata": {},
      "source": [
        "___\n",
        "### 4.3 Turnover Analysis\n",
        "We can also analyze the **dynamics of the turnover** and transaction costs. These are contained in the second output of the backtesting function. Let's, for example, calculate the total turnover for each calendar year:"
      ]
    },
    {
      "cell_type": "code",
      "execution_count": null,
      "id": "significant-keyboard",
      "metadata": {
        "trusted": true
      },
      "outputs": [],
      "source": [
        "#we generate a column with the years extracted by the index\n",
        "p_turn['year'] = p_turn.index.year\n",
        "\n",
        "#we sum the monthly turnover by year\n",
        "turn = p_turn.groupby('year')['Turnover'].sum()*100\n",
        "\n",
        "#we plot\n",
        "turn.plot(figsize=(10,6),\n",
        "          kind='bar',\n",
        "          title='Turnover',\n",
        "          ylabel='(%)',\n",
        "          xlabel='Year')"
      ]
    },
    {
      "cell_type": "markdown",
      "id": "pregnant-camping",
      "metadata": {},
      "source": [
        "We see that **every year we buy and sell** between 150% and 350% of the portfolio value. This generates a certain amount of annual transaction costs:"
      ]
    },
    {
      "cell_type": "code",
      "execution_count": null,
      "id": "together-motel",
      "metadata": {
        "trusted": true
      },
      "outputs": [],
      "source": [
        "#we sum the monthly transaction cost by year\n",
        "t_cost = p_turn.groupby('year')['T-Cost'].sum()*100\n",
        "\n",
        "#we plot\n",
        "t_cost.plot(figsize=(10,6),\n",
        "            kind='bar',\n",
        "            title='Transaction Costs',\n",
        "            ylabel='(%)',\n",
        "            xlabel='Year')"
      ]
    },
    {
      "cell_type": "markdown",
      "id": "mineral-india",
      "metadata": {},
      "source": [
        "At the top of the tech bubble this strategy should have generated transaction costs of 0.5% per year. This is more than one-tenth of the average active return of the strategy.\n",
        "\n",
        "___\n",
        "### 5.3 Industry Exposure\n",
        "The third output of the backtesting function is the composition of the portfolio (and of the benchmark). While we mainly care about the performance of a strategy, it is useful to know **in which type of stocks** we are actually investing to keep an eye on our **exposure to different risk factors**. \n",
        "\n",
        "One typical example is our **industry exposure**: how much of the portfolio is invested in tech stocks? How much in the hospitality industry? This will, for example, drive the peorformance of our stragegy during the pandemic.\n",
        "\n",
        "In our strategy, portfolio composition is determined purely by a single information signal...but what if all the companies in a given industry rank very well (or very poorly) based on that signal?\n",
        "\n",
        "To start, we can load the file `names.zip` that **contains name and industry** affiliation of all the companies in our sample."
      ]
    },
    {
      "cell_type": "code",
      "execution_count": null,
      "id": "exterior-poker",
      "metadata": {
        "trusted": true
      },
      "outputs": [],
      "source": [
        "names = pd.read_csv('names.csv').set_index('id')\n",
        "names.head()"
      ]
    },
    {
      "cell_type": "markdown",
      "id": "center-murray",
      "metadata": {},
      "source": [
        "Let's now **merge this with our strategy** DataFrame (the one with the target weights)."
      ]
    },
    {
      "cell_type": "code",
      "execution_count": null,
      "id": "proprietary-jerusalem",
      "metadata": {
        "trusted": true
      },
      "outputs": [],
      "source": [
        "# Merge the 'names' DataFrame with the strategy DataFrame ('p_comp') using a left join\n",
        "p_comp = p_comp.join(names, how='left')\n",
        "p_comp.head()"
      ]
    },
    {
      "cell_type": "markdown",
      "id": "peaceful-lesson",
      "metadata": {},
      "source": [
        "We can now estimate industry exposure by **summing the weights of all the stocks in each industry**. We want to calculate this exposure every month, so we use a double **`.groupby()`**: we need to group by date and then by industry. "
      ]
    },
    {
      "cell_type": "code",
      "execution_count": null,
      "id": "informal-photograph",
      "metadata": {
        "trusted": true
      },
      "outputs": [],
      "source": [
        "# Now, estimate industry exposure by summing the weights of all the stocks in each industry\n",
        "port_exposure = p_comp.groupby(['date', 'industry'])['Portfolio'].sum()\n",
        "port_exposure.head()"
      ]
    },
    {
      "cell_type": "markdown",
      "id": "circular-cooperative",
      "metadata": {},
      "source": [
        "Since we used a double groupby operator, the result has a **multiindex**: every observation is indexed by **date AND industry**. It is easier for us to have **each industry** in a different column:"
      ]
    },
    {
      "cell_type": "code",
      "execution_count": null,
      "id": "contained-wilderness",
      "metadata": {
        "trusted": true
      },
      "outputs": [],
      "source": [
        "# Unstack the 'industry' level of the multi-index DataFrame to pivot the data\n",
        "port_exposure = port_exposure.unstack(level=1)\n",
        "port_exposure.head()"
      ]
    },
    {
      "cell_type": "code",
      "execution_count": null,
      "id": "spectacular-domestic",
      "metadata": {
        "trusted": true
      },
      "outputs": [],
      "source": [
        "# Plot the industry exposure data\n",
        "# Use .plot() method with 'kind='area'' to create an area plot\n",
        "# Set the figure size to (10, 6) for better visibility\n",
        "# Set the ylabel to 'Portfolio %' to label the y-axis\n",
        "# Set the xlabel to 'Year' to label the x-axis\n",
        "# Set the title of the plot to 'Portfolio Industry Exposure' for clarity\n",
        "port_exposure.plot(figsize=(10,6),\n",
        "                   kind='area',\n",
        "                   ylabel='Portfolio %',\n",
        "                   xlabel='Year',\n",
        "                   title='Portfolio Industry Exposure')"
      ]
    },
    {
      "cell_type": "markdown",
      "id": "textile-burton",
      "metadata": {},
      "source": [
        "**What a mess!** This picture is a disaster... Let's see:\n",
        "* The legend overlaps and cover valuable information\n",
        "* The colors are repeated so it is difficult to understand what is what\n",
        "* The grey border looks weird\n",
        "\n",
        "Let's try to fix them:"
      ]
    },
    {
      "cell_type": "code",
      "execution_count": null,
      "id": "hollywood-spain",
      "metadata": {
        "trusted": true
      },
      "outputs": [],
      "source": [
        "port_exposure.plot(figsize=(10,6),\n",
        "                   kind='area',\n",
        "                   ylabel='Portfolio %',\n",
        "                   xlabel='Year',\n",
        "                   title='Portfolio Industry Exposure',\n",
        "                   colormap='tab20',\n",
        "                   ylim=[0,1],\n",
        "                   xlim=[port_exposure.index.min(), port_exposure.index.max()])\n",
        "\n",
        "plt.legend(loc='center left', bbox_to_anchor=(1, 0.5))"
      ]
    },
    {
      "cell_type": "markdown",
      "id": "overall-flavor",
      "metadata": {},
      "source": [
        "Better...:\n",
        "* The `xlim=[]` and `ylim=[]` parameters specify the limits for the `x` and `y` axis and so we get rid of the weird grey border. Notice that for the `x` axis we could have simply written `xlim=[1990, 2007]` but that could break with a different sample. With the current version we look for min/max year in the sample.\n",
        "* The  `colormap=` parameter changes the colormap from the default one to one with 20 colors so they are not repeated (a list of colormaps can be found [here](https://matplotlib.org/stable/gallery/color/colormap_reference.html)).\n",
        "\n",
        "When it comes to the **legend**, the problem is that the integration of `matplotlib` with `pandas` **does not allow to move it** or change it in any way. So here we need to use the **standard** `matplotlib` **syntax** to move the lengend. The syntax of the line is a bit complex, so if you want you can read more [here](https://matplotlib.org/stable/api/_as_gen/matplotlib.pyplot.legend.html). \n",
        "\n",
        "While the picture now is ok, the graph still looks weird, but that is a problem with our data: we are building our monthly target weights by looking at accounting data (the Gross Profitability Ratio). Since US companies release quarterly accounting information, we get a lot of seasonality: retail companies have a boost in revenues and profit in the 4th quarter (Christmas shopping)...\n",
        "\n",
        "To remedy this we can look at the **average yearly exposure**:"
      ]
    },
    {
      "cell_type": "code",
      "execution_count": null,
      "id": "alleged-buddy",
      "metadata": {
        "trusted": true
      },
      "outputs": [],
      "source": [
        "#we extract the year from the index\n",
        "port_exposure['year'] = port_exposure.index.year\n",
        "\n",
        "#we calculate the mean exposure by year (for simplicity we replace the old DataFrame)\n",
        "port_exposure = port_exposure.groupby('year').mean()\n",
        "port_exposure.head()"
      ]
    },
    {
      "cell_type": "code",
      "execution_count": null,
      "id": "express-algeria",
      "metadata": {
        "trusted": true
      },
      "outputs": [],
      "source": [
        "#and then we can plot\n",
        "port_exposure.plot(figsize=(10,6),\n",
        "                   kind='area',\n",
        "                   ylabel='Portfolio %',\n",
        "                   xlabel='Year',\n",
        "                   title='Portfolio Industry Exposure',\n",
        "                   colormap='tab20',\n",
        "                   ylim=[0,1],\n",
        "                   xlim=[port_exposure.index.min(), port_exposure.index.max()])\n",
        "\n",
        "plt.legend(loc='center left', bbox_to_anchor=(1, 0.5))\n",
        "#  this code block will generate a plot showing the average yearly exposure of the portfolio to different industries."
      ]
    },
    {
      "cell_type": "markdown",
      "id": "sitting-chaos",
      "metadata": {},
      "source": [
        "Now that the picture is finally fixed we can observe the industry exposure of our portfolio. We see, for example, that after 1997 our exposure to business equipment is greatly reduced. It is not clear **if this is an active bet** of our strategy, or if it simply reflects the dynamic of the general market. To answer this question we need to look at the **industry exposure of our benchmark**."
      ]
    },
    {
      "cell_type": "code",
      "execution_count": null,
      "id": "cardiovascular-cradle",
      "metadata": {
        "trusted": true
      },
      "outputs": [],
      "source": [
        "#we sum teh weights of the stocks for each industry and month\n",
        "bench_exposure = p_comp.groupby(['date', 'industry'])['Benchmark'].sum()\n",
        "\n",
        "#we put the data of each industry in a different column\n",
        "bench_exposure = bench_exposure.unstack(level=1)\n",
        "\n",
        "#we xtract the year from the index\n",
        "bench_exposure['year'] = bench_exposure.index.year\n",
        "\n",
        "#we take the mean average exposure within each year and plot\n",
        "bench_exposure = bench_exposure.groupby('year').mean()\n",
        "\n",
        "# This code calculates and visualizes the industry exposure of the benchmark over time\n",
        "bench_exposure.plot(figsize=(10,6),\n",
        "                    kind='area',\n",
        "                    ylabel='Composition %',\n",
        "                    xlabel='Year',\n",
        "                    title='Benchmark Industry Exposure',\n",
        "                    colormap='tab20',\n",
        "                    ylim=[0,1],\n",
        "                    xlim=[bench_exposure.index.min(), bench_exposure.index.max()])\n",
        "\n",
        "plt.legend(loc='center left', bbox_to_anchor=(1, 0.5))"
      ]
    },
    {
      "cell_type": "markdown",
      "id": "interim-hotel",
      "metadata": {},
      "source": [
        "And from comparing the industry exposure of our portfolio to that of the benchmark we see that our profitability strategy has an **implied long bet** on Business Equipment and Retail, and an **implied short bet** on Finance and Manufacturing."
      ]
    },
    {
      "cell_type": "code",
      "execution_count": null,
      "id": "0f2f375a-cf03-4b32-9299-5ef01fd4ff05",
      "metadata": {
        "trusted": true
      },
      "outputs": [],
      "source": [
        "___\n",
        "### Exercise 09.02\n",
        "In the profitability strategy above we have assumed that investing in the top 200 shares was a good idea. This is a **parameter that should be analyzed and optimized**.\n",
        "\n",
        "Use a `for-loop` to run the backtesting of the profitability strategy with four different values for the parameter `N` (keeping all the other parameters as in the main text). You should try investing in the top: 50, 200, 500, 1000 shares. After each iteration of the for loop save the information ratio of the strategy. At the end observe what would have been the optimal parameter.\n",
        "\n",
        "**HINT:** To access the information ratio after each iteration check the hint 1 to the previous exercise."
      ]
    },
    {
      "cell_type": "code",
      "execution_count": null,
      "id": "smaller-romania",
      "metadata": {
        "trusted": true
      },
      "outputs": [],
      "source": [
        "numbers = [50, 200, 500, 1000]\n",
        "\n",
        "info_ratio=[]\n",
        "\n",
        "# This code conducts a for-loop to run the backtesting of the profitability strategy with four different values for the parameter N, representing the top number of shares to invest in.\n",
        "# It iterates through the list numbers, which contains the values [50, 200, 500, 1000], and for each value in the list\n",
        "for number in numbers:\n",
        "    \n",
        "    p_ret, p_turn, p_comp, p_perf = ap.backtesting(factor, prices, market_cap, \n",
        "                                                   start='1990-01-01', end='2007-12-31', \n",
        "                                                   frequency=3, t_cost=0.0015, N=number)\n",
        "    \n",
        "    info_ratio.append(p_perf.loc['RR Ratio', 'Active'])\n",
        "# During each iteration, it appends the information ratio (RR Ratio) of the active portfolio to the info_ratio list. Finally, it prints out the info_ratio list containing the information ratios for each value of N.   \n",
        "print(info_ratio)"
      ]
    },
    {
      "cell_type": "markdown",
      "id": "formal-psychiatry",
      "metadata": {},
      "source": [
        "At the end you should observe that the performance of the strategy **improves with a larger number of shares** in the portfolio."
      ]
    }
  ],
  "metadata": {
    "kernelspec": {
      "display_name": "Python 3",
      "language": "python",
      "name": "python3"
    },
    "language_info": {
      "codemirror_mode": {
        "name": "ipython",
        "version": 3
      },
      "file_extension": ".py",
      "mimetype": "text/x-python",
      "name": "python",
      "nbconvert_exporter": "python",
      "pygments_lexer": "ipython3",
      "version": "3.12.3"
    }
  },
  "nbformat": 4,
  "nbformat_minor": 5
}
